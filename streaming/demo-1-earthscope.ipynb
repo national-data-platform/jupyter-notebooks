{
 "cells": [
  {
   "cell_type": "markdown",
   "id": "d5cb0d25",
   "metadata": {},
   "source": [
    "# SciDX Streaming Capabilities Demonstration \n",
    "\n",
    "This demonstration showcases the **SciDX Streaming capabilities**, leveraging both the **SciDX POP Library** for managing data objects and the **Streaming Library** for real-time data streaming and processing. \n",
    "\n",
    "## Objectives \n",
    "\n",
    "We will: \n",
    "1. **Register Earthscope data streams** using the SciDX POP Library (*Data Provider*).\n",
    "2. **Discover and apply filters** to customize data streams for specific use cases (*Data Consumer*).\n",
    "3. **Consume and visualize real-time data streams**.\n",
    "  \n",
    "## Workflow \n",
    "\n",
    "Below is a diagram illustrating the interaction between the data provider and consumer in the streaming workflow:\n",
    "\n",
    "![Data Stream Library](data_stream_library.png) \n",
    "\n",
    "### Key Components: \n",
    "- **POP Library:** Used to register and discover data objects (acts as the Data Provider). Interacts with the POP API to register and manage data objects.\n",
    "- **Streaming Library:** Used to create, manage, and consume real-time data streams (acts as the Data Consumer). Manages real-time data streams, including applying filters and consuming messages.\n",
    "\n",
    "## Step 1: Setting Up the POP (Data Provider) and Streaming (Data Consumer) Clients\r\n",
    "\r\n",
    "In this step, we will:\r\n",
    "1. **Import necessary modules** for handling data streams.\r\n",
    "2. **Initialize the Point of Presence (POP) client** to manage data registration and discoer*).\r\n",
    "3. **Initialize the Streaming client** to manage and consume real-time data stmesses.\r\n"
   ]
  },
  {
   "cell_type": "code",
   "execution_count": 1,
   "id": "3021e074",
   "metadata": {},
   "outputs": [],
   "source": [
    "import asyncio\n",
    "import time\n",
    "from scidx_streaming import StreamingClient\n",
    "from pointofpresence import APIClient\n",
    "from earthscope_demo import earthscope_topic_metadata, filters, API_URL, USERNAME, PASSWORD, EARTHSCOPE_USERNAME, EARTHSCOPE_PASSWORD"
   ]
  },
  {
   "cell_type": "markdown",
   "id": "dcd8a7d6-3974-4880-acb7-846dbf8d3375",
   "metadata": {},
   "source": [
    "Here, we:\n",
    "1. Initialize the `APIClient` to handle data registration and discovery.\n",
    "2. Initialize the `StreamingClient` to handle real-time data streams."
   ]
  },
  {
   "cell_type": "code",
   "execution_count": 2,
   "id": "6fdbdd01-e195-4f3b-b17e-45771538deed",
   "metadata": {},
   "outputs": [
    {
     "name": "stdout",
     "output_type": "stream",
     "text": [
      "Streaming Client initialized. User ID: d4402055-669b-4ea9-b98b-053877a61ea1\n"
     ]
    }
   ],
   "source": [
    "# Initialize the POP client for data registration and discovery\n",
    "client = APIClient(base_url=API_URL, username=USERNAME, password=PASSWORD)\n",
    "\n",
    "# Initialize the Streaming client for real-time data streaming\n",
    "streaming = StreamingClient(client)\n",
    "print(f\"Streaming Client initialized. User ID: {streaming.user_id}\")"
   ]
  },
  {
   "cell_type": "markdown",
   "id": "c9d99d22-459d-4ac7-9ba9-c8b53b6ab2fc",
   "metadata": {},
   "source": [
    "## Step 2: Register an Earthscope Data Stream (Data Provider)\n",
    "\n",
    "In this step, we will use the **POP client**, and the metadata for accessing an **Earthscope data stream**, to register it into our POP."
   ]
  },
  {
   "cell_type": "code",
   "execution_count": 3,
   "id": "a291386b-45bb-4b40-a3be-51007c066772",
   "metadata": {},
   "outputs": [
    {
     "data": {
      "text/plain": [
       "{'id': '5e29e6a1-79f6-4f43-b941-de3774c7bcd8'}"
      ]
     },
     "execution_count": 3,
     "metadata": {},
     "output_type": "execute_result"
    }
   ],
   "source": [
    "# Register the Earthscope data stream with the POP client\n",
    "client.register_kafka_topic(earthscope_topic_metadata)"
   ]
  },
  {
   "cell_type": "markdown",
   "id": "c0cdb5ef-4cd7-4d88-bf93-7d96eb6dba5d",
   "metadata": {},
   "source": [
    "## Step 3: Search for the Registered Earthscope Data Stream (Data Provider) \n",
    "\n",
    "Now that we have registered the data stream, we will: \n",
    "1. Use the **POP client** to search for datasets using the `search_datasets` method.\n",
    "2. Verify that the **Earthscope data stream** is correctly registered by searching for it.\n",
    "\n",
    "This ensures the dataset is discoverable for use by the Data Consumers."
   ]
  },
  {
   "cell_type": "code",
   "execution_count": 4,
   "id": "bff66712-e1d9-4fcb-b117-cf486307b686",
   "metadata": {},
   "outputs": [
    {
     "name": "stdout",
     "output_type": "stream",
     "text": [
      "Number of datasets found: 1\n"
     ]
    }
   ],
   "source": [
    "# Search for the registered Earthscope data stream\n",
    "search_results = client.search_datasets(\"earthscope_kafka_gnss_observations\")\n",
    "print(f\"Number of datasets found: {len(search_results)}\")"
   ]
  },
  {
   "cell_type": "markdown",
   "id": "64c7badd-3f00-49d4-85a7-32af5494ffb9",
   "metadata": {},
   "source": [
    "# Transition: From Data Provider to Data Consumer \n",
    "\n",
    "The **POP client** (Data Provider) has completed its role in: \n",
    "1. Registering the **Earthscope data stream**.\n",
    "2. Verifying its discoverability.\n",
    "\n",
    "We now transition to the **Streaming client** (Data Consumer) to: \n",
    "1. Create customized data streams by applying filters.\n",
    "2. Consume and visualize the real-time data."
   ]
  },
  {
   "cell_type": "markdown",
   "id": "c787cf46-7578-428e-b185-4f6b1256135b",
   "metadata": {},
   "source": [
    "## Step 4: Create a Stream with Filtered Data from the Earthscope Topic (Data Consumer) \n",
    "\n",
    "In this step, we’ll create a Kafka data stream for the registered **Earthscope topic**. The *filtering capabilities* allow us to refine the data stream by applying conditions, alerts, and transformations.\n",
    "\n",
    "### Filtering Logic Breakdown: \n",
    "- **Station Selection**: Filters data to include specific stations (`SNCL`), ensuring the stream only processes data from:\n",
    "    - **P505.PW.LY_.00**\n",
    "    - **DHLG.CI.LY_.20**\n",
    "    - **P159.PW.LY_.00**\n",
    "- **Alert System**:\n",
    "  - **High Quality Data (Blue Alert)**: Activated when `Q > 2,000,000`.\n",
    "  - **Low Quality Data (Red Alert)**: Triggered when `Q ≤ 2,000,000`.\n",
    "- **Dynamic Rate Adjustment**:\n",
    "  - For data flagged with a **Red Alert**, the `rate` field is adjusted with a multiplier of `2`.\n",
    "\n",
    "These filters allow us to isolate meaningful subsets of the data, trigger alerts dynamically, and transform the data stream for more actionable insights.\n",
    "\n",
    "Here’s the filtering logic applied in this demonstration:\n",
    "```python\n",
    "filters = [ \n",
    "    \"SNCL IN ['P505.PW.LY_.00', 'DHLG.CI.LY_.20', 'P159.PW.LY_.00']\", \n",
    "    \"IF Q > 2000000 THEN alert = blue\", \n",
    "    \"IF Q <= 2000000 THEN alert = red\", \n",
    "    \"IF alert = 'red' THEN rate = 2\" \n",
    "]\n",
    "```"
   ]
  },
  {
   "cell_type": "code",
   "execution_count": 5,
   "id": "88586b32-ab0b-4d3f-9c1d-0a4298353d2d",
   "metadata": {},
   "outputs": [
    {
     "name": "stdout",
     "output_type": "stream",
     "text": [
      "Stream created: data_stream_d4402055-669b-4ea9-b98b-053877a61ea1_2\n"
     ]
    }
   ],
   "source": [
    "# Create a Kafka stream for Earthscope data with filters applied\n",
    "stream = await streaming.create_kafka_stream(\n",
    "    keywords=[\"earthscope_kafka_gnss_observations\"],\n",
    "    match_all=True,\n",
    "    filter_semantics=filters,\n",
    "    username=EARTHSCOPE_USERNAME,\n",
    "    password=EARTHSCOPE_PASSWORD\n",
    ")\n",
    "\n",
    "# Retrieve the stream's topic name\n",
    "topic = stream.data_stream_id\n",
    "print(f\"Stream created: {topic}\")"
   ]
  },
  {
   "cell_type": "markdown",
   "id": "627586af-deb9-4852-abd8-1ac91de29e31",
   "metadata": {},
   "source": [
    "## Step 5: Consuming the Filtered Stream Data \n",
    "\n",
    "With the Kafka stream created, we now: \n",
    "1. Initialize a **data consumer** using the `consume_kafka_messages` method.\n",
    "2. Start **real-time consumption** of filtered data.\n",
    "\n",
    "The consumer continuously listens for incoming messages and populates a dynamic DataFrame. \n",
    "\n",
    "**Note**: It may take a few seconds for data to populate due to real-time processing."
   ]
  },
  {
   "cell_type": "code",
   "execution_count": 6,
   "id": "8312f6e9-fb62-4665-b991-74e1a17170be",
   "metadata": {},
   "outputs": [],
   "source": [
    "# Start consuming the filtered Kafka stream\n",
    "consumer = streaming.consume_kafka_messages(topic)"
   ]
  },
  {
   "cell_type": "code",
   "execution_count": 8,
   "id": "843a9f41-8d80-45d1-b7b5-65cc12397af2",
   "metadata": {},
   "outputs": [
    {
     "data": {
      "text/html": [
       "<div>\n",
       "<style scoped>\n",
       "    .dataframe tbody tr th:only-of-type {\n",
       "        vertical-align: middle;\n",
       "    }\n",
       "\n",
       "    .dataframe tbody tr th {\n",
       "        vertical-align: top;\n",
       "    }\n",
       "\n",
       "    .dataframe thead th {\n",
       "        text-align: right;\n",
       "    }\n",
       "</style>\n",
       "<table border=\"1\" class=\"dataframe\">\n",
       "  <thead>\n",
       "    <tr style=\"text-align: right;\">\n",
       "      <th></th>\n",
       "      <th>time</th>\n",
       "      <th>Q</th>\n",
       "      <th>type</th>\n",
       "      <th>SNCL</th>\n",
       "      <th>coor</th>\n",
       "      <th>err</th>\n",
       "      <th>rate</th>\n",
       "      <th>alert</th>\n",
       "    </tr>\n",
       "  </thead>\n",
       "  <tbody>\n",
       "    <tr>\n",
       "      <th>0</th>\n",
       "      <td>[1736258066000, 1736258067000, 1736258068000, ...</td>\n",
       "      <td>[2908001.0, 2908001.0, 2908001.0, 2908001.0, 2...</td>\n",
       "      <td>[ENU, ENU, ENU, ENU, ENU, ENU, ENU, ENU, ENU, ...</td>\n",
       "      <td>[P505.PW.LY_.00, P505.PW.LY_.00, P505.PW.LY_.0...</td>\n",
       "      <td>[[0.093, -0.044, 0.089], [0.093, -0.047, 0.087...</td>\n",
       "      <td>[[0.008, 0.011, 0.03], [0.006, 0.008, 0.023], ...</td>\n",
       "      <td>[1, 1, 1, 1, 1, 1, 1, 1, 1, 1, 1, 1, 1, 1, 1, ...</td>\n",
       "      <td>[blue, blue, blue, blue, blue, blue, blue, blu...</td>\n",
       "    </tr>\n",
       "    <tr>\n",
       "      <th>1</th>\n",
       "      <td>[1736259284000, 1736259285000, 1736259286000, ...</td>\n",
       "      <td>[1909041.0, 1510181.0, 1510191.0, 1909041.0, 1...</td>\n",
       "      <td>[ENU, ENU, ENU, ENU, ENU, ENU, ENU, ENU, ENU, ...</td>\n",
       "      <td>[DHLG.CI.LY_.20, P159.PW.LY_.00, P159.PW.LY_.0...</td>\n",
       "      <td>[[-0.001, -0.033, 0.029], [0.203, -0.043, -0.1...</td>\n",
       "      <td>[[0.03, 0.04, 0.084], [0.023, 0.029, 0.049], [...</td>\n",
       "      <td>[2, 2, 2, 2, 2, 2, 2, 2, 2, 2, 2, 2, 2, 2, 2, ...</td>\n",
       "      <td>[red, red, red, red, red, red, red, red, red, ...</td>\n",
       "    </tr>\n",
       "    <tr>\n",
       "      <th>2</th>\n",
       "      <td>[1736258117000, 1736258118000, 1736258119000, ...</td>\n",
       "      <td>[2908001.0, 2908001.0, 2908001.0, 2908001.0, 2...</td>\n",
       "      <td>[ENU, ENU, ENU, ENU, ENU, ENU, ENU, ENU, ENU, ...</td>\n",
       "      <td>[P505.PW.LY_.00, P505.PW.LY_.00, P505.PW.LY_.0...</td>\n",
       "      <td>[[0.094, -0.043, 0.106], [0.097, -0.039, 0.096...</td>\n",
       "      <td>[[0.006, 0.008, 0.023], [0.007, 0.009, 0.025],...</td>\n",
       "      <td>[1, 1, 1, 1, 1, 1, 1, 1, 1, 1, 1, 1, 1, 1, 1, ...</td>\n",
       "      <td>[blue, blue, blue, blue, blue, blue, blue, blu...</td>\n",
       "    </tr>\n",
       "    <tr>\n",
       "      <th>3</th>\n",
       "      <td>[1736258143000, 1736258144000, 1736258145000, ...</td>\n",
       "      <td>[2908001.0, 2908001.0, 2908001.0, 2908001.0, 2...</td>\n",
       "      <td>[ENU, ENU, ENU, ENU, ENU, ENU, ENU, ENU, ENU, ...</td>\n",
       "      <td>[P505.PW.LY_.00, P505.PW.LY_.00, P505.PW.LY_.0...</td>\n",
       "      <td>[[0.09, -0.04, 0.086], [0.089, -0.04, 0.085], ...</td>\n",
       "      <td>[[0.008, 0.012, 0.031], [0.006, 0.008, 0.023],...</td>\n",
       "      <td>[1, 1, 1, 1, 1, 1, 1, 1, 1, 1, 1, 1, 1, 1, 1, ...</td>\n",
       "      <td>[blue, blue, blue, blue, blue, blue, blue, blu...</td>\n",
       "    </tr>\n",
       "    <tr>\n",
       "      <th>4</th>\n",
       "      <td>[1736259315000, 1736259314000, 1736259315000, ...</td>\n",
       "      <td>[1510231.0, 1909041.0, 1909041.0, 1510221.0, 1...</td>\n",
       "      <td>[ENU, ENU, ENU, ENU, ENU, ENU, ENU, ENU, ENU, ...</td>\n",
       "      <td>[P159.PW.LY_.00, DHLG.CI.LY_.20, DHLG.CI.LY_.2...</td>\n",
       "      <td>[[0.199, -0.042, -0.165], [0.001, -0.035, 0.03...</td>\n",
       "      <td>[[0.027, 0.035, 0.059], [0.03, 0.039, 0.084], ...</td>\n",
       "      <td>[2, 2, 2, 2, 2, 2, 2, 2, 2, 2, 2, 2, 2, 2, 2, ...</td>\n",
       "      <td>[red, red, red, red, red, red, red, red, red, ...</td>\n",
       "    </tr>\n",
       "    <tr>\n",
       "      <th>5</th>\n",
       "      <td>[1736259345000, 1736259344000, 1736259345000, ...</td>\n",
       "      <td>[1510261.0, 1909041.0, 1909041.0, 1510271.0, 1...</td>\n",
       "      <td>[ENU, ENU, ENU, ENU, ENU, ENU, ENU, ENU, ENU, ...</td>\n",
       "      <td>[P159.PW.LY_.00, DHLG.CI.LY_.20, DHLG.CI.LY_.2...</td>\n",
       "      <td>[[0.198, -0.046, -0.166], [-0.001, -0.037, 0.0...</td>\n",
       "      <td>[[0.032, 0.041, 0.068], [0.03, 0.039, 0.083], ...</td>\n",
       "      <td>[2, 2, 2, 2, 2, 2, 2, 2, 2, 2, 2, 2, 2, 2, 2, ...</td>\n",
       "      <td>[red, red, red, red, red, red, red, red, red, ...</td>\n",
       "    </tr>\n",
       "    <tr>\n",
       "      <th>6</th>\n",
       "      <td>[1736258167000, 1736258168000, 1736258169000, ...</td>\n",
       "      <td>[2808001.0, 2808001.0, 2808071.0, 2808081.0, 2...</td>\n",
       "      <td>[ENU, ENU, ENU, ENU, ENU, ENU, ENU, ENU, ENU, ...</td>\n",
       "      <td>[P505.PW.LY_.00, P505.PW.LY_.00, P505.PW.LY_.0...</td>\n",
       "      <td>[[0.093, -0.038, 0.098], [0.095, -0.038, 0.095...</td>\n",
       "      <td>[[0.01, 0.014, 0.038], [0.011, 0.015, 0.039], ...</td>\n",
       "      <td>[1, 1, 1, 1, 1, 1, 1, 1, 1, 1, 1, 1, 1, 1, 1, ...</td>\n",
       "      <td>[blue, blue, blue, blue, blue, blue, blue, blu...</td>\n",
       "    </tr>\n",
       "    <tr>\n",
       "      <th>7</th>\n",
       "      <td>[1736258210000, 1736258211000, 1736258212000, ...</td>\n",
       "      <td>[2808011.0, 2808021.0, 2808031.0, 2808051.0, 2...</td>\n",
       "      <td>[ENU, ENU, ENU, ENU, ENU, ENU, ENU, ENU]</td>\n",
       "      <td>[P505.PW.LY_.00, P505.PW.LY_.00, P505.PW.LY_.0...</td>\n",
       "      <td>[[0.094, -0.041, 0.102], [0.091, -0.041, 0.099...</td>\n",
       "      <td>[[0.011, 0.015, 0.042], [0.012, 0.016, 0.043],...</td>\n",
       "      <td>[1, 1, 1, 1, 1, 1, 1, 1]</td>\n",
       "      <td>[blue, blue, blue, blue, blue, blue, blue, blue]</td>\n",
       "    </tr>\n",
       "    <tr>\n",
       "      <th>8</th>\n",
       "      <td>[1736259358000, 1736259355000, 1736259356000, ...</td>\n",
       "      <td>[1510221.0, 1909041.0, 1909041.0, 1510231.0, 1...</td>\n",
       "      <td>[ENU, ENU, ENU, ENU, ENU, ENU, ENU, ENU, ENU, ...</td>\n",
       "      <td>[P159.PW.LY_.00, DHLG.CI.LY_.20, DHLG.CI.LY_.2...</td>\n",
       "      <td>[[0.199, -0.045, -0.163], [-0.001, -0.037, 0.0...</td>\n",
       "      <td>[[0.026, 0.033, 0.055], [0.03, 0.039, 0.083], ...</td>\n",
       "      <td>[2, 2, 2, 2, 2, 2, 2, 2, 2, 2]</td>\n",
       "      <td>[red, red, red, red, red, red, red, red, red, ...</td>\n",
       "    </tr>\n",
       "    <tr>\n",
       "      <th>9</th>\n",
       "      <td>[1736259362000, 1736259361000, 1736259362000, ...</td>\n",
       "      <td>[1510271.0, 1909041.0, 1909041.0, 1510261.0, 1...</td>\n",
       "      <td>[ENU, ENU, ENU, ENU, ENU, ENU, ENU, ENU, ENU, ...</td>\n",
       "      <td>[P159.PW.LY_.00, DHLG.CI.LY_.20, DHLG.CI.LY_.2...</td>\n",
       "      <td>[[0.199, -0.046, -0.163], [-0.002, -0.036, 0.0...</td>\n",
       "      <td>[[0.033, 0.042, 0.07], [0.03, 0.039, 0.083], [...</td>\n",
       "      <td>[2, 2, 2, 2, 2, 2, 2, 2, 2, 2, 2, 2, 2, 2, 2, ...</td>\n",
       "      <td>[red, red, red, red, red, red, red, red, red, ...</td>\n",
       "    </tr>\n",
       "  </tbody>\n",
       "</table>\n",
       "</div>"
      ],
      "text/plain": [
       "                                                time  \\\n",
       "0  [1736258066000, 1736258067000, 1736258068000, ...   \n",
       "1  [1736259284000, 1736259285000, 1736259286000, ...   \n",
       "2  [1736258117000, 1736258118000, 1736258119000, ...   \n",
       "3  [1736258143000, 1736258144000, 1736258145000, ...   \n",
       "4  [1736259315000, 1736259314000, 1736259315000, ...   \n",
       "5  [1736259345000, 1736259344000, 1736259345000, ...   \n",
       "6  [1736258167000, 1736258168000, 1736258169000, ...   \n",
       "7  [1736258210000, 1736258211000, 1736258212000, ...   \n",
       "8  [1736259358000, 1736259355000, 1736259356000, ...   \n",
       "9  [1736259362000, 1736259361000, 1736259362000, ...   \n",
       "\n",
       "                                                   Q  \\\n",
       "0  [2908001.0, 2908001.0, 2908001.0, 2908001.0, 2...   \n",
       "1  [1909041.0, 1510181.0, 1510191.0, 1909041.0, 1...   \n",
       "2  [2908001.0, 2908001.0, 2908001.0, 2908001.0, 2...   \n",
       "3  [2908001.0, 2908001.0, 2908001.0, 2908001.0, 2...   \n",
       "4  [1510231.0, 1909041.0, 1909041.0, 1510221.0, 1...   \n",
       "5  [1510261.0, 1909041.0, 1909041.0, 1510271.0, 1...   \n",
       "6  [2808001.0, 2808001.0, 2808071.0, 2808081.0, 2...   \n",
       "7  [2808011.0, 2808021.0, 2808031.0, 2808051.0, 2...   \n",
       "8  [1510221.0, 1909041.0, 1909041.0, 1510231.0, 1...   \n",
       "9  [1510271.0, 1909041.0, 1909041.0, 1510261.0, 1...   \n",
       "\n",
       "                                                type  \\\n",
       "0  [ENU, ENU, ENU, ENU, ENU, ENU, ENU, ENU, ENU, ...   \n",
       "1  [ENU, ENU, ENU, ENU, ENU, ENU, ENU, ENU, ENU, ...   \n",
       "2  [ENU, ENU, ENU, ENU, ENU, ENU, ENU, ENU, ENU, ...   \n",
       "3  [ENU, ENU, ENU, ENU, ENU, ENU, ENU, ENU, ENU, ...   \n",
       "4  [ENU, ENU, ENU, ENU, ENU, ENU, ENU, ENU, ENU, ...   \n",
       "5  [ENU, ENU, ENU, ENU, ENU, ENU, ENU, ENU, ENU, ...   \n",
       "6  [ENU, ENU, ENU, ENU, ENU, ENU, ENU, ENU, ENU, ...   \n",
       "7           [ENU, ENU, ENU, ENU, ENU, ENU, ENU, ENU]   \n",
       "8  [ENU, ENU, ENU, ENU, ENU, ENU, ENU, ENU, ENU, ...   \n",
       "9  [ENU, ENU, ENU, ENU, ENU, ENU, ENU, ENU, ENU, ...   \n",
       "\n",
       "                                                SNCL  \\\n",
       "0  [P505.PW.LY_.00, P505.PW.LY_.00, P505.PW.LY_.0...   \n",
       "1  [DHLG.CI.LY_.20, P159.PW.LY_.00, P159.PW.LY_.0...   \n",
       "2  [P505.PW.LY_.00, P505.PW.LY_.00, P505.PW.LY_.0...   \n",
       "3  [P505.PW.LY_.00, P505.PW.LY_.00, P505.PW.LY_.0...   \n",
       "4  [P159.PW.LY_.00, DHLG.CI.LY_.20, DHLG.CI.LY_.2...   \n",
       "5  [P159.PW.LY_.00, DHLG.CI.LY_.20, DHLG.CI.LY_.2...   \n",
       "6  [P505.PW.LY_.00, P505.PW.LY_.00, P505.PW.LY_.0...   \n",
       "7  [P505.PW.LY_.00, P505.PW.LY_.00, P505.PW.LY_.0...   \n",
       "8  [P159.PW.LY_.00, DHLG.CI.LY_.20, DHLG.CI.LY_.2...   \n",
       "9  [P159.PW.LY_.00, DHLG.CI.LY_.20, DHLG.CI.LY_.2...   \n",
       "\n",
       "                                                coor  \\\n",
       "0  [[0.093, -0.044, 0.089], [0.093, -0.047, 0.087...   \n",
       "1  [[-0.001, -0.033, 0.029], [0.203, -0.043, -0.1...   \n",
       "2  [[0.094, -0.043, 0.106], [0.097, -0.039, 0.096...   \n",
       "3  [[0.09, -0.04, 0.086], [0.089, -0.04, 0.085], ...   \n",
       "4  [[0.199, -0.042, -0.165], [0.001, -0.035, 0.03...   \n",
       "5  [[0.198, -0.046, -0.166], [-0.001, -0.037, 0.0...   \n",
       "6  [[0.093, -0.038, 0.098], [0.095, -0.038, 0.095...   \n",
       "7  [[0.094, -0.041, 0.102], [0.091, -0.041, 0.099...   \n",
       "8  [[0.199, -0.045, -0.163], [-0.001, -0.037, 0.0...   \n",
       "9  [[0.199, -0.046, -0.163], [-0.002, -0.036, 0.0...   \n",
       "\n",
       "                                                 err  \\\n",
       "0  [[0.008, 0.011, 0.03], [0.006, 0.008, 0.023], ...   \n",
       "1  [[0.03, 0.04, 0.084], [0.023, 0.029, 0.049], [...   \n",
       "2  [[0.006, 0.008, 0.023], [0.007, 0.009, 0.025],...   \n",
       "3  [[0.008, 0.012, 0.031], [0.006, 0.008, 0.023],...   \n",
       "4  [[0.027, 0.035, 0.059], [0.03, 0.039, 0.084], ...   \n",
       "5  [[0.032, 0.041, 0.068], [0.03, 0.039, 0.083], ...   \n",
       "6  [[0.01, 0.014, 0.038], [0.011, 0.015, 0.039], ...   \n",
       "7  [[0.011, 0.015, 0.042], [0.012, 0.016, 0.043],...   \n",
       "8  [[0.026, 0.033, 0.055], [0.03, 0.039, 0.083], ...   \n",
       "9  [[0.033, 0.042, 0.07], [0.03, 0.039, 0.083], [...   \n",
       "\n",
       "                                                rate  \\\n",
       "0  [1, 1, 1, 1, 1, 1, 1, 1, 1, 1, 1, 1, 1, 1, 1, ...   \n",
       "1  [2, 2, 2, 2, 2, 2, 2, 2, 2, 2, 2, 2, 2, 2, 2, ...   \n",
       "2  [1, 1, 1, 1, 1, 1, 1, 1, 1, 1, 1, 1, 1, 1, 1, ...   \n",
       "3  [1, 1, 1, 1, 1, 1, 1, 1, 1, 1, 1, 1, 1, 1, 1, ...   \n",
       "4  [2, 2, 2, 2, 2, 2, 2, 2, 2, 2, 2, 2, 2, 2, 2, ...   \n",
       "5  [2, 2, 2, 2, 2, 2, 2, 2, 2, 2, 2, 2, 2, 2, 2, ...   \n",
       "6  [1, 1, 1, 1, 1, 1, 1, 1, 1, 1, 1, 1, 1, 1, 1, ...   \n",
       "7                           [1, 1, 1, 1, 1, 1, 1, 1]   \n",
       "8                     [2, 2, 2, 2, 2, 2, 2, 2, 2, 2]   \n",
       "9  [2, 2, 2, 2, 2, 2, 2, 2, 2, 2, 2, 2, 2, 2, 2, ...   \n",
       "\n",
       "                                               alert  \n",
       "0  [blue, blue, blue, blue, blue, blue, blue, blu...  \n",
       "1  [red, red, red, red, red, red, red, red, red, ...  \n",
       "2  [blue, blue, blue, blue, blue, blue, blue, blu...  \n",
       "3  [blue, blue, blue, blue, blue, blue, blue, blu...  \n",
       "4  [red, red, red, red, red, red, red, red, red, ...  \n",
       "5  [red, red, red, red, red, red, red, red, red, ...  \n",
       "6  [blue, blue, blue, blue, blue, blue, blue, blu...  \n",
       "7   [blue, blue, blue, blue, blue, blue, blue, blue]  \n",
       "8  [red, red, red, red, red, red, red, red, red, ...  \n",
       "9  [red, red, red, red, red, red, red, red, red, ...  "
      ]
     },
     "execution_count": 8,
     "metadata": {},
     "output_type": "execute_result"
    }
   ],
   "source": [
    "# Display the first 10 rows of the consumed data\n",
    "consumer.dataframe.head(10)"
   ]
  },
  {
   "cell_type": "markdown",
   "id": "e23a702b-f3c0-4f45-9b3e-5944e2b0a20b",
   "metadata": {},
   "source": [
    "## Step 6: Stopping Data Consumption and Cleaning Up \n",
    "\n",
    "To wrap up, we will: \n",
    "1. Stop the data consumer to halt data processing.\n",
    "2. Delete the created stream from the Kafka topic using the Streaming client.\n",
    "3. Remove the registered dataset using the POP client.\n",
    "\n",
    "This ensures all resources and background tasks are properly released."
   ]
  },
  {
   "cell_type": "code",
   "execution_count": 9,
   "id": "66db93d1-a846-49d1-b1c4-fa11acd0ed19",
   "metadata": {},
   "outputs": [
    {
     "name": "stdout",
     "output_type": "stream",
     "text": [
      "Shutting down Kafka consumer for topic: public.gnss.positions.normalized.geojson.compact\n",
      "Kafka consumer for topic: public.gnss.positions.normalized.geojson.compact has been shut down.\n",
      "Cleanup completed: Stream and registered dataset deleted.\n"
     ]
    }
   ],
   "source": [
    "# Stop the Kafka consumer\n",
    "consumer.stop()\n",
    "\n",
    "# Delete the Kafka stream\n",
    "await streaming.delete_stream(stream)\n",
    "\n",
    "# Delete the registered dataset from the POP system\n",
    "client.delete_resource_by_id(search_results[0][\"id\"])\n",
    "print(\"Cleanup completed: Stream and registered dataset deleted.\")"
   ]
  },
  {
   "cell_type": "code",
   "execution_count": null,
   "id": "169ea1f9-2d27-44c5-9cd2-ffe8b1c62dfe",
   "metadata": {},
   "outputs": [],
   "source": []
  }
 ],
 "metadata": {
  "kernelspec": {
   "display_name": "Python 3 (ipykernel)",
   "language": "python",
   "name": "python3"
  },
  "language_info": {
   "codemirror_mode": {
    "name": "ipython",
    "version": 3
   },
   "file_extension": ".py",
   "mimetype": "text/x-python",
   "name": "python",
   "nbconvert_exporter": "python",
   "pygments_lexer": "ipython3",
   "version": "3.11.6"
  }
 },
 "nbformat": 4,
 "nbformat_minor": 5
}
