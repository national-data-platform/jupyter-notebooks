{
 "cells": [
  {
   "cell_type": "markdown",
   "id": "4b4457a0-f42f-42f1-850a-0ad1cfae00d7",
   "metadata": {},
   "source": [
    "<div style=\"display: flex; justify-content: space-between; align-items: center; margin-bottom: 20px;\">\n",
    "    <div style=\"flex: 0 0 auto; margin-left: 0; margin-bottom: 0; width: 300px; height: 200px; \">\n",
    "        <img src=\"https://www.anl.gov/sites/www/files/2020-05/SAGE-image.jpg\" alt=\"SAGE Logo\"/>\n",
    "    </div>\n",
    "    <div style=\"flex: 0 0 auto; margin-left: auto; margin-bottom: 0;\">\n",
    "        <img src=\"https://nairrpilot.org/app/site/media/ndp.jpg\" alt=\"NDP Logo\" width=\"200\"/>\n",
    "    </div>\n",
    "</div>"
   ]
  },
  {
   "cell_type": "markdown",
   "id": "15a15099-e868-45af-acf8-b448f4af70e1",
   "metadata": {},
   "source": [
    "# SciDX SAGE Streaming Tutorial\n",
    "\n",
    "In this tutorial, we will stream and manage data from **SAGE sensors** using the **SciDX platform**. You will learn to how to register, filter, and process real-time data streams efficiently.\n",
    "\n",
    "This tutorial covers:\n",
    "\n",
    "1. **Registering SAGE sensor data streams** with the sciDX API.\n",
    "2. **Applying filters** to customize data streams for specific needs.\n",
    "3. **Consuming and visualizing real-time data** to analyze sensor data dynamically."
   ]
  },
  {
   "cell_type": "markdown",
   "id": "46debce7-0c4b-4f86-91ae-b93e5c9c0f60",
   "metadata": {},
   "source": [
    "### Initilizing"
   ]
  },
  {
   "cell_type": "markdown",
   "id": "dc80400a-f2ea-4ece-be5b-edfcae26f4c4",
   "metadata": {},
   "source": [
    "## Step 1: Setting Up the sciDX Client and Logging In\n",
    "\n",
    "To start, we’ll import the necessary modules, set up our API URL and credentials, and then initialize the sciDX client. This client will allow us to interact with the sciDX platform for registering and consuming sensor data."
   ]
  },
  {
   "cell_type": "code",
   "execution_count": 1,
   "id": "8eb2ced5-3510-4bd3-b634-1fabe625ef26",
   "metadata": {},
   "outputs": [],
   "source": [
    "# Import the sciDX client and demo-specific modules\n",
    "from scidx_streaming import StreamingClient\n",
    "from pointofpresence import APIClient\n",
    "from sage_demo import sensor_data, filters, SageDataProcessing, plot_temp_alerts\n",
    "from dotenv import load_dotenv\n",
    "import os"
   ]
  },
  {
   "cell_type": "code",
   "execution_count": 2,
   "id": "d8e23b1b-9b0c-4e84-8575-6475a08f98f0",
   "metadata": {},
   "outputs": [],
   "source": [
    "# Load environment variables from .env file\n",
    "load_dotenv(dotenv_path=\"/home/jovyan/work/streaming_library/.env\")\n",
    "\n",
    "API_URL = os.getenv(\"API_URL\")\n",
    "USERNAME = os.getenv(\"USERNAME\")\n",
    "PASSWORD = os.getenv(\"PASSWORD\")\n",
    "EARTHSCOPE_USERNAME = os.getenv(\"EARTHSCOPE_USERNAME\")\n",
    "EARTHSCOPE_PASSWORD = os.getenv(\"EARTHSCOPE_PASSWORD\")"
   ]
  },
  {
   "cell_type": "code",
   "execution_count": 3,
   "id": "24a14b52-f4ac-498c-9997-0100b3278174",
   "metadata": {
    "scrolled": true
   },
   "outputs": [
    {
     "name": "stdout",
     "output_type": "stream",
     "text": [
      "User ID: d4402055-669b-4ea9-b98b-053877a61ea1\n"
     ]
    }
   ],
   "source": [
    "# Initialize API Client\n",
    "client = APIClient(base_url=API_URL, username=USERNAME, password=PASSWORD)\n",
    "\n",
    "# Initialize Streaming Client\n",
    "streaming = StreamingClient(client)\n",
    "print(f\"User ID: {streaming.user_id}\")"
   ]
  },
  {
   "cell_type": "markdown",
   "id": "4551fcfe-a737-4a0f-938b-ba4f9b48a8c9",
   "metadata": {},
   "source": [
    "## Step 2: Registering BME280 Sensor Data from multiple SAGE nodes\n",
    "\n",
    "In this step, we’ll register data streams from BME280 sensors, specifically for temperature, pressure, and humidity, into sciDX. Each sensor’s data will be registered as a unique resource with its respective URL.\n",
    "\n",
    "### Data Streams\n",
    "- **Temperature**\n",
    "- **Pressure**\n",
    "- **Humidity**"
   ]
  },
  {
   "cell_type": "code",
   "execution_count": 4,
   "id": "e5e7aaa2-8533-4601-9c8e-11d2994ba662",
   "metadata": {},
   "outputs": [],
   "source": [
    "# Register each sensor data stream from the `sensor_data` list\n",
    "for sensor in sensor_data:\n",
    "    client.register_url(sensor)"
   ]
  },
  {
   "cell_type": "markdown",
   "id": "4cc2999a-2507-4ae1-920f-4d5a5d94e8c2",
   "metadata": {},
   "source": [
    "## Step 3: Searching for Registered BME280 Sensor Data\n",
    "\n",
    "With the BME280 sensor data registered, we can now search for these resources on the sciDX platform. Using the prefix `sage_demo_bme280`, we’ll retrieve all datasets related to this sensor."
   ]
  },
  {
   "cell_type": "code",
   "execution_count": 5,
   "id": "ef95ebcc-fe40-4a0a-ba89-82c4904b9b72",
   "metadata": {},
   "outputs": [
    {
     "name": "stdout",
     "output_type": "stream",
     "text": [
      "Number of datasets found: 3\n"
     ]
    }
   ],
   "source": [
    "# Search for all registered BME280 sensor datasets\n",
    "search_results = client.search_datasets(\"sage_demo_bme280\")\n",
    "print(f\"Number of datasets found: {len(search_results)}\")"
   ]
  },
  {
   "cell_type": "markdown",
   "id": "eaffe7d2-efd8-41ea-8d54-ba17e6b14384",
   "metadata": {},
   "source": [
    "## Step 4: Creating and Filtering a Data Stream Using sciDX Filtering Capabilities\n",
    "\n",
    "In this step, we’ll create a Kafka data stream on sciDX with filters to select specific data and apply custom alerts. Here’s how the data is filtered and transformed:\n",
    "\n",
    "- **State Selection**: Filters to only include data from California, Montana, Oregon, North Dakota, Michigan, and Illinois.\n",
    "- **Data Mapping**: Maps sensor readings to temperature, pressure, and humidity fields.\n",
    "- **State Assignment**: Associates each sensor with its corresponding state name.\n",
    "- **Conditional Alerts**:\n",
    "  - **Heatwave Alert**: Activates if temperature > 35°C or humidity < 25%.\n",
    "  - **State-Specific Alerts**: Certain states have unique temperature thresholds that will trigger alerts:\n",
    "    - Montana: Temperature > 40°C\n",
    "    - Oregon: Temperature > 30°C\n",
    "  - **Pressure Alert**: Activates if pressure exceeds 101,000 Pa.\n",
    "- **Pressure Adjustment**: For certain temperature alerts, reduces pressure readings by 5%.\n",
    "\n",
    "These filters give us a tailored view of the data, isolating specific conditions and providing custom alerts."
   ]
  },
  {
   "cell_type": "code",
   "execution_count": 6,
   "id": "cec47a2b-308e-4d55-94a6-fbf43f49e563",
   "metadata": {},
   "outputs": [
    {
     "name": "stdout",
     "output_type": "stream",
     "text": [
      "Stream created: data_stream_d4402055-669b-4ea9-b98b-053877a61ea1_2\n"
     ]
    }
   ],
   "source": [
    "# Create the Kafka stream using sciDXClient with specified filters for SAGE data\n",
    "stream = await streaming.create_kafka_stream(\n",
    "    keywords=[\"sage_demo\"],\n",
    "    match_all=True,\n",
    "    filter_semantics=filters\n",
    ")\n",
    "\n",
    "topic = stream.data_stream_id\n",
    "\n",
    "print(f\"Stream created: {topic}\")"
   ]
  },
  {
   "cell_type": "markdown",
   "id": "ad1dc869-31cd-42f3-aa55-f7b1a79ec4e4",
   "metadata": {},
   "source": [
    "## Step 5: Consuming the Filtered Stream Data\n",
    "\n",
    "With the Kafka stream created and filters applied, we can now start consuming the filtered data in real time. Our consumer will listen continuously to incoming messages and populate a dynamic DataFrame as new data arrives."
   ]
  },
  {
   "cell_type": "code",
   "execution_count": 7,
   "id": "43915187-ed60-4eda-914f-c607e124e862",
   "metadata": {},
   "outputs": [],
   "source": [
    "# Start consuming Kafka messages from the created topic\n",
    "consumer = streaming.consume_kafka_messages(topic)"
   ]
  },
  {
   "cell_type": "markdown",
   "id": "be1f471a-c49c-49b3-8eb6-e6535504b56e",
   "metadata": {},
   "source": [
    "#### Viewing a Simple Data Summary\n",
    "\n",
    "We can view a summary of the latest data received, focusing on selected columns. The summary will also show the current total rows and columns."
   ]
  },
  {
   "cell_type": "code",
   "execution_count": 18,
   "id": "80de6ac2-021a-4df1-8c55-0f5cab316c53",
   "metadata": {},
   "outputs": [
    {
     "data": {
      "text/html": [
       "<div>\n",
       "<style scoped>\n",
       "    .dataframe tbody tr th:only-of-type {\n",
       "        vertical-align: middle;\n",
       "    }\n",
       "\n",
       "    .dataframe tbody tr th {\n",
       "        vertical-align: top;\n",
       "    }\n",
       "\n",
       "    .dataframe thead th {\n",
       "        text-align: right;\n",
       "    }\n",
       "</style>\n",
       "<table border=\"1\" class=\"dataframe\">\n",
       "  <thead>\n",
       "    <tr style=\"text-align: right;\">\n",
       "      <th></th>\n",
       "      <th>name</th>\n",
       "      <th>timestamp</th>\n",
       "      <th>value</th>\n",
       "      <th>meta.host</th>\n",
       "      <th>meta.job</th>\n",
       "      <th>meta.node</th>\n",
       "      <th>meta.plugin</th>\n",
       "      <th>meta.sensor</th>\n",
       "      <th>meta.task</th>\n",
       "      <th>meta.vsn</th>\n",
       "      <th>meta.zone</th>\n",
       "      <th>humidity</th>\n",
       "      <th>state</th>\n",
       "      <th>alert</th>\n",
       "    </tr>\n",
       "  </thead>\n",
       "  <tbody>\n",
       "    <tr>\n",
       "      <th>0</th>\n",
       "      <td>[env.relative_humidity, env.relative_humidity]</td>\n",
       "      <td>[2025-01-06T23:30:25.104570364Z, 2025-01-06T23...</td>\n",
       "      <td>[12.556, 17.175]</td>\n",
       "      <td>[000048b02d35a9ce.ws-nxcore, 000048b02d3ae2f2....</td>\n",
       "      <td>[Pluginctl, Pluginctl]</td>\n",
       "      <td>[000048b02d35a9ce, 000048b02d3ae2f2]</td>\n",
       "      <td>[waggle/plugin-iio:0.6.0, waggle/plugin-iio:0....</td>\n",
       "      <td>[bme280, bme280]</td>\n",
       "      <td>[wes-iio-bme280, wes-iio-bme280]</td>\n",
       "      <td>[W085, W06F]</td>\n",
       "      <td>[core, core]</td>\n",
       "      <td>[12.556, 17.175]</td>\n",
       "      <td>[North Dakota, Montana]</td>\n",
       "      <td>[Heatwave, Heatwave]</td>\n",
       "    </tr>\n",
       "  </tbody>\n",
       "</table>\n",
       "</div>"
      ],
      "text/plain": [
       "                                             name  \\\n",
       "0  [env.relative_humidity, env.relative_humidity]   \n",
       "\n",
       "                                           timestamp             value  \\\n",
       "0  [2025-01-06T23:30:25.104570364Z, 2025-01-06T23...  [12.556, 17.175]   \n",
       "\n",
       "                                           meta.host                meta.job  \\\n",
       "0  [000048b02d35a9ce.ws-nxcore, 000048b02d3ae2f2....  [Pluginctl, Pluginctl]   \n",
       "\n",
       "                              meta.node  \\\n",
       "0  [000048b02d35a9ce, 000048b02d3ae2f2]   \n",
       "\n",
       "                                         meta.plugin       meta.sensor  \\\n",
       "0  [waggle/plugin-iio:0.6.0, waggle/plugin-iio:0....  [bme280, bme280]   \n",
       "\n",
       "                          meta.task      meta.vsn     meta.zone  \\\n",
       "0  [wes-iio-bme280, wes-iio-bme280]  [W085, W06F]  [core, core]   \n",
       "\n",
       "           humidity                    state                 alert  \n",
       "0  [12.556, 17.175]  [North Dakota, Montana]  [Heatwave, Heatwave]  "
      ]
     },
     "execution_count": 18,
     "metadata": {},
     "output_type": "execute_result"
    },
    {
     "name": "stderr",
     "output_type": "stream",
     "text": [
      "Unhandled error in URL stream processing: Cannot connect to host data.sagecontinuum.org:443 ssl:default [Connect call failed ('165.124.33.154', 443)]\n",
      "Unhandled error in URL stream processing: Cannot connect to host data.sagecontinuum.org:443 ssl:default [Connect call failed ('165.124.33.154', 443)]\n"
     ]
    }
   ],
   "source": [
    "# Display a summary of the raw received data\n",
    "consumer.dataframe.head(10)"
   ]
  },
  {
   "cell_type": "markdown",
   "id": "de373359-c888-465a-946a-a2d40a293dcb",
   "metadata": {},
   "source": [
    "## Step 6: Processing and Visualizing Data\n",
    "\n",
    "With data now being consumed, let’s set up a processor to organize and analyze the stream for easy viewing."
   ]
  },
  {
   "cell_type": "code",
   "execution_count": null,
   "id": "3f2860f3-3f23-4532-99ca-3fa921ce3920",
   "metadata": {},
   "outputs": [],
   "source": [
    "# Set up the data processor\n",
    "processor = SageDataProcessing(consumer)"
   ]
  },
  {
   "cell_type": "markdown",
   "id": "81111a67-235b-454b-8e52-6a020437393c",
   "metadata": {},
   "source": [
    "### Viewing Processed Data\n",
    "\n",
    "Let’s view the latest 5 rows of the processed and aggregated data to see a snapshot of our current data."
   ]
  },
  {
   "cell_type": "code",
   "execution_count": null,
   "id": "1c3f7a50-0335-4ebd-83d3-2c95951800e2",
   "metadata": {},
   "outputs": [],
   "source": [
    "processor.get_aggregated_df().tail(5)"
   ]
  },
  {
   "cell_type": "markdown",
   "id": "59485158-c17d-4f34-bf20-9f137060705e",
   "metadata": {},
   "source": [
    "## Step 7: Stopping Data Consumption and Processing\n",
    "\n",
    "To wrap up, we’ll stop the data consumer and processor, ending the data flow and background tasks."
   ]
  },
  {
   "cell_type": "code",
   "execution_count": null,
   "id": "b9ee37e7-f21b-4b00-8312-da1d00f522a3",
   "metadata": {},
   "outputs": [],
   "source": [
    "# Stop the data consumer and processor\n",
    "processor.stop()\n",
    "consumer.stop()"
   ]
  },
  {
   "cell_type": "markdown",
   "id": "a9c01b64-3655-45e6-886b-cd6ffe480e3a",
   "metadata": {},
   "source": [
    "#### Cleaning Up Resources\n",
    "\n",
    "Finally, we’ll delete the registered entries for the SAGE sensors to free up resources on the sciDX platform. This cleanup ensures that no unused resources remain after this tutorial."
   ]
  },
  {
   "cell_type": "code",
   "execution_count": 19,
   "id": "75b75f7b-2ba5-4778-b759-b3c654a2ba8d",
   "metadata": {},
   "outputs": [
    {
     "data": {
      "text/plain": [
       "{'message': \"Stream 'data_stream_d4402055-669b-4ea9-b98b-053877a61ea1_2' deleted successfully\"}"
      ]
     },
     "execution_count": 19,
     "metadata": {},
     "output_type": "execute_result"
    }
   ],
   "source": [
    "consumer.stop()\n",
    "await streaming.delete_stream(stream)"
   ]
  },
  {
   "cell_type": "code",
   "execution_count": 20,
   "id": "ac026868-1dd6-4a9f-809b-8c911dd69815",
   "metadata": {},
   "outputs": [
    {
     "name": "stdout",
     "output_type": "stream",
     "text": [
      "Deleted resource c8e3cc04-53d6-4071-bd61-f867dd8afefa: {'message': 'c8e3cc04-53d6-4071-bd61-f867dd8afefa deleted successfully'}\n",
      "Deleted resource 9c597ac7-b85c-4cf0-b8da-862c23385d43: {'message': '9c597ac7-b85c-4cf0-b8da-862c23385d43 deleted successfully'}\n",
      "Deleted resource 9af9b424-9a98-4e59-92a8-6d2c07a54992: {'message': '9af9b424-9a98-4e59-92a8-6d2c07a54992 deleted successfully'}\n"
     ]
    }
   ],
   "source": [
    "# Get the resource IDs from the search results\n",
    "resource_ids = [result['id'] for result in search_results]\n",
    "\n",
    "# Delete both resources using the sciDXClient's delete_resource method\n",
    "for resource_id in resource_ids:\n",
    "    delete_response = client.delete_resource_by_id(resource_id)\n",
    "    print(f\"Deleted resource {resource_id}: {delete_response}\")"
   ]
  },
  {
   "cell_type": "code",
   "execution_count": null,
   "id": "0d5a1ce0-3ba5-48d7-9888-fc0a09b45ee2",
   "metadata": {},
   "outputs": [],
   "source": [
    "# Clear all the user data streams\n",
    "await streaming.delete_stream('all')"
   ]
  },
  {
   "cell_type": "code",
   "execution_count": null,
   "id": "99eb7787-cea9-4061-88d6-a84d3d78ca5a",
   "metadata": {},
   "outputs": [],
   "source": []
  }
 ],
 "metadata": {
  "kernelspec": {
   "display_name": "Python 3 (ipykernel)",
   "language": "python",
   "name": "python3"
  },
  "language_info": {
   "codemirror_mode": {
    "name": "ipython",
    "version": 3
   },
   "file_extension": ".py",
   "mimetype": "text/x-python",
   "name": "python",
   "nbconvert_exporter": "python",
   "pygments_lexer": "ipython3",
   "version": "3.11.6"
  }
 },
 "nbformat": 4,
 "nbformat_minor": 5
}
