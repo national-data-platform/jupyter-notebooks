{
 "cells": [
  {
   "cell_type": "markdown",
   "id": "4b4457a0-f42f-42f1-850a-0ad1cfae00d7",
   "metadata": {},
   "source": [
    "<div style=\"display: flex; justify-content: space-between; align-items: center; margin-bottom: 20px;\">\n",
    "    <div style=\"flex: 0 0 auto; margin-left: 0; margin-bottom: 0;\">\n",
    "        <img src=\"https://naise.northwestern.edu/images/sage-logo-410x410-1-360x200.jpg\" alt=\"SAGE Logo\"/>\n",
    "    </div>\n",
    "    <div style=\"flex: 0 0 auto; margin-left: auto; margin-bottom: 0;\">\n",
    "        <img src=\"https://nairrpilot.org/app/site/media/ndp.jpg\" alt=\"NDP Logo\" width=\"200\"/>\n",
    "    </div>\n",
    "</div>"
   ]
  },
  {
   "cell_type": "markdown",
   "id": "15a15099-e868-45af-acf8-b448f4af70e1",
   "metadata": {},
   "source": [
    "# SciDX Streaming Capabilities Demonstration \n",
    "\n",
    "This demonstration showcases the **SciDX Streaming capabilities**, leveraging both the **SciDX POP Library** for managing data objects and the **Streaming Library** for real-time data streaming and processing. \n",
    "\n",
    "## Objectives \n",
    "\n",
    "We will:\n",
    "1. **Register SAGE sensor data streams** with the SciDX POP Library (*Data Provider*).\n",
    "2. **Discover and apply filters** to customize data streams for specific use cases (*Data Consumer*).\n",
    "3. **Consuming and visualizing real-time data streams**."
   ]
  },
  {
   "cell_type": "markdown",
   "id": "dc80400a-f2ea-4ece-be5b-edfcae26f4c4",
   "metadata": {},
   "source": [
    "## Workflow\n",
    "\n",
    "Below is a diagram illustrating the interaction between the data provider and consumer in the streaming workflow:\n",
    "\n",
    "![Data Stream Library](data_stream_library.png) \n",
    "\n",
    "### Key Components: \n",
    "- **POP Library:** Used to register and discover data objects (acts as the Data Provider). Interacts with the POP API to register and manage data objects.\n",
    "- **Streaming Library:** Used to create, manage, and consume real-time data streams (acts as the Data Consumer). Manages real-time data streams, including applying filters and consuming messages.\n",
    "\n",
    "## Step 1: Setting Up the POP (Data Provider) and Streaming (Data Consumer) Clients\n",
    "\n",
    "In this step, we will:\n",
    "1. **Import necessary modules** for handling data streams.\n",
    "2. **Initialize the Point of Presence (POP) client** to manage data registration and discovery.\n",
    "3. **Initialize the Streaming client** to manage and consume real-time data streams."
   ]
  },
  {
   "cell_type": "code",
   "execution_count": 1,
   "id": "8eb2ced5-3510-4bd3-b634-1fabe625ef26",
   "metadata": {},
   "outputs": [],
   "source": [
    "# Import the sciDX client and demo-specific modules\n",
    "from scidx_streaming import StreamingClient\n",
    "from pointofpresence import APIClient\n",
    "from sage_demo import sensor_data, filters, API_URL, USERNAME, PASSWORD"
   ]
  },
  {
   "cell_type": "markdown",
   "id": "7658f839-75e5-438d-bc33-08d6c3595bfd",
   "metadata": {},
   "source": [
    "Here, we:\n",
    "1. Initialize the `APIClient` to handle data registration and discovery.\n",
    "2. Initialize the `StreamingClient` to handle real-time data streams."
   ]
  },
  {
   "cell_type": "code",
   "execution_count": 2,
   "id": "24a14b52-f4ac-498c-9997-0100b3278174",
   "metadata": {
    "scrolled": true
   },
   "outputs": [
    {
     "name": "stdout",
     "output_type": "stream",
     "text": [
      "Streaming Client initialized. User ID: d4402055-669b-4ea9-b98b-053877a61ea1\n"
     ]
    }
   ],
   "source": [
    "# Initialize the POP client for data registration and discovery\n",
    "client = APIClient(base_url=API_URL, username=USERNAME, password=PASSWORD)\n",
    "\n",
    "# Initialize the Streaming client for real-time data streaming\n",
    "streaming = StreamingClient(client)\n",
    "print(f\"Streaming Client initialized. User ID: {streaming.user_id}\")"
   ]
  },
  {
   "cell_type": "markdown",
   "id": "4551fcfe-a737-4a0f-938b-ba4f9b48a8c9",
   "metadata": {},
   "source": [
    "## Step 2: Registering Sensor Data from multiple SAGE nodes (Data Provider)\n",
    "\n",
    "In this step, we will use the **POP client**, and the metadata for accessing **BME280 sensors data**, to register it into our POP. Each sensor’s data will be registered as a unique resource with its respective URL.\n",
    "\n",
    "### Data Streams\n",
    "- **Temperature**\n",
    "- **Pressure**\n",
    "- **Humidity**"
   ]
  },
  {
   "cell_type": "code",
   "execution_count": 3,
   "id": "e5e7aaa2-8533-4601-9c8e-11d2994ba662",
   "metadata": {},
   "outputs": [],
   "source": [
    "# Register each sensor data stream from the `sensor_data` list\n",
    "for sensor in sensor_data:\n",
    "    client.register_url(sensor)"
   ]
  },
  {
   "cell_type": "markdown",
   "id": "4cc2999a-2507-4ae1-920f-4d5a5d94e8c2",
   "metadata": {},
   "source": [
    "## Step 3: Search for  the Registered BME280 Sensor Data (Data Provider) \n",
    "\n",
    "Now that we have registered the BME280 sensor data, we will:\n",
    "1. Use the **POP client** to search for datasets using the `search_datasets` method.\n",
    "2. Verify that the **BME280 sensors** are correctly registered by searching them.\n",
    "\n",
    "This ensures the datasets are discoverable for use by the Data Consumers."
   ]
  },
  {
   "cell_type": "code",
   "execution_count": 4,
   "id": "ef95ebcc-fe40-4a0a-ba89-82c4904b9b72",
   "metadata": {},
   "outputs": [
    {
     "name": "stdout",
     "output_type": "stream",
     "text": [
      "Number of datasets found: 3\n"
     ]
    }
   ],
   "source": [
    "# Search for all registered BME280 sensor datasets\n",
    "search_results = client.search_datasets(\"sage_demo_bme280\")\n",
    "print(f\"Number of datasets found: {len(search_results)}\")"
   ]
  },
  {
   "cell_type": "markdown",
   "id": "eaffe7d2-efd8-41ea-8d54-ba17e6b14384",
   "metadata": {},
   "source": [
    "## Step 4: Create a Stream with Filtered Data from the SAGE BME280 registered sensors (Data Consumer)\n",
    "\n",
    "In this step, we’ll create a Kafka data stream on sciDX with filters to select specific data and apply custom alerts. Here’s how the data is filtered and transformed:\n",
    "\n",
    "- **State Selection**: Filters to only include data from California, Montana, Oregon, North Dakota, Michigan, and Illinois.\n",
    "- **Data Mapping**: Maps sensor readings to temperature, pressure, and humidity fields.\n",
    "- **State Assignment**: Associates each sensor with its corresponding state name.\n",
    "- **Conditional Alerts**:\n",
    "  - **Heatwave Alert**: Activates if temperature > 35°C or humidity < 25%.\n",
    "  - **State-Specific Alerts**: Certain states have unique temperature thresholds that will trigger alerts:\n",
    "    - Montana: Temperature > 40°C\n",
    "    - Oregon: Temperature > 30°C\n",
    "  - **Pressure Alert**: Activates if pressure exceeds 101,000 Pa.\n",
    "- **Pressure Adjustment**: For certain temperature alerts, reduces pressure readings by 5%.\n",
    "\n",
    "These filters allow us to isolate meaningful subsets of the data, trigger alerts dynamically, and transform the data stream for more actionable insights."
   ]
  },
  {
   "cell_type": "code",
   "execution_count": 5,
   "id": "cec47a2b-308e-4d55-94a6-fbf43f49e563",
   "metadata": {},
   "outputs": [
    {
     "name": "stdout",
     "output_type": "stream",
     "text": [
      "Stream created: data_stream_d4402055-669b-4ea9-b98b-053877a61ea1_2\n"
     ]
    }
   ],
   "source": [
    "# Create the Kafka stream using sciDXClient with specified filters for SAGE data\n",
    "stream = await streaming.create_kafka_stream(\n",
    "    keywords=[\"sage_demo\"],\n",
    "    match_all=True,\n",
    "    filter_semantics=filters\n",
    ")\n",
    "\n",
    "# Retrieve the stream's topic name\n",
    "topic = stream.data_stream_id\n",
    "print(f\"Stream created: {topic}\")"
   ]
  },
  {
   "cell_type": "markdown",
   "id": "ad1dc869-31cd-42f3-aa55-f7b1a79ec4e4",
   "metadata": {},
   "source": [
    "## Step 5: Consuming the Filtered Stream Data \n",
    "\n",
    "With the Kafka stream created, we now: \n",
    "1. Initialize a **data consumer** using the `consume_kafka_messages` method.\n",
    "2. Start **real-time consumption** of filtered data.\n",
    "\n",
    "The consumer continuously listens for incoming messages and populates a dynamic DataFrame. \n",
    "\n",
    "**Note**: It may take a few seconds for data to populate due to real-time processing."
   ]
  },
  {
   "cell_type": "code",
   "execution_count": 6,
   "id": "43915187-ed60-4eda-914f-c607e124e862",
   "metadata": {},
   "outputs": [],
   "source": [
    "# Start consuming Kafka messages from the created topic\n",
    "consumer = streaming.consume_kafka_messages(topic)"
   ]
  },
  {
   "cell_type": "code",
   "execution_count": 8,
   "id": "80de6ac2-021a-4df1-8c55-0f5cab316c53",
   "metadata": {},
   "outputs": [
    {
     "data": {
      "text/html": [
       "<div>\n",
       "<style scoped>\n",
       "    .dataframe tbody tr th:only-of-type {\n",
       "        vertical-align: middle;\n",
       "    }\n",
       "\n",
       "    .dataframe tbody tr th {\n",
       "        vertical-align: top;\n",
       "    }\n",
       "\n",
       "    .dataframe thead th {\n",
       "        text-align: right;\n",
       "    }\n",
       "</style>\n",
       "<table border=\"1\" class=\"dataframe\">\n",
       "  <thead>\n",
       "    <tr style=\"text-align: right;\">\n",
       "      <th></th>\n",
       "      <th>name</th>\n",
       "      <th>timestamp</th>\n",
       "      <th>value</th>\n",
       "      <th>meta.host</th>\n",
       "      <th>meta.job</th>\n",
       "      <th>meta.node</th>\n",
       "      <th>meta.plugin</th>\n",
       "      <th>meta.sensor</th>\n",
       "      <th>meta.task</th>\n",
       "      <th>meta.vsn</th>\n",
       "      <th>meta.zone</th>\n",
       "      <th>pressure</th>\n",
       "      <th>state</th>\n",
       "      <th>alert</th>\n",
       "      <th>temperature</th>\n",
       "      <th>humidity</th>\n",
       "    </tr>\n",
       "  </thead>\n",
       "  <tbody>\n",
       "    <tr>\n",
       "      <th>0</th>\n",
       "      <td>[env.pressure, env.pressure]</td>\n",
       "      <td>[2025-01-07T17:51:27.767251921Z, 2025-01-07T17...</td>\n",
       "      <td>[100554.671875, 96221.5]</td>\n",
       "      <td>[000048b02d35a9ce.ws-nxcore, 000048b02d35a97c....</td>\n",
       "      <td>[Pluginctl, Pluginctl]</td>\n",
       "      <td>[000048b02d35a9ce, 000048b02d35a97c]</td>\n",
       "      <td>[waggle/plugin-iio:0.6.0, waggle/plugin-iio:0....</td>\n",
       "      <td>[bme280, bme280]</td>\n",
       "      <td>[wes-iio-bme280, wes-iio-bme280]</td>\n",
       "      <td>[W085, W08C]</td>\n",
       "      <td>[core, core]</td>\n",
       "      <td>[100554.671875, 96221.5]</td>\n",
       "      <td>[North Dakota, Michigan]</td>\n",
       "      <td>[None, None]</td>\n",
       "      <td>N/A</td>\n",
       "      <td>N/A</td>\n",
       "    </tr>\n",
       "    <tr>\n",
       "      <th>1</th>\n",
       "      <td>[env.temperature, env.temperature]</td>\n",
       "      <td>[2025-01-07T17:51:27.761292574Z, 2025-01-07T17...</td>\n",
       "      <td>[7.48, 15.71]</td>\n",
       "      <td>[000048b02d35a9ce.ws-nxcore, 000048b02d35a97c....</td>\n",
       "      <td>[Pluginctl, Pluginctl]</td>\n",
       "      <td>[000048b02d35a9ce, 000048b02d35a97c]</td>\n",
       "      <td>[waggle/plugin-iio:0.6.0, waggle/plugin-iio:0....</td>\n",
       "      <td>[bme280, bme280]</td>\n",
       "      <td>[wes-iio-bme280, wes-iio-bme280]</td>\n",
       "      <td>[W085, W08C]</td>\n",
       "      <td>[core, core]</td>\n",
       "      <td>N/A</td>\n",
       "      <td>[North Dakota, Michigan]</td>\n",
       "      <td>[None, None]</td>\n",
       "      <td>[7.48, 15.71]</td>\n",
       "      <td>N/A</td>\n",
       "    </tr>\n",
       "    <tr>\n",
       "      <th>2</th>\n",
       "      <td>[env.relative_humidity, env.relative_humidity]</td>\n",
       "      <td>[2025-01-07T17:51:27.771586719Z, 2025-01-07T17...</td>\n",
       "      <td>[15.865, 19.495]</td>\n",
       "      <td>[000048b02d35a9ce.ws-nxcore, 000048b02d35a97c....</td>\n",
       "      <td>[Pluginctl, Pluginctl]</td>\n",
       "      <td>[000048b02d35a9ce, 000048b02d35a97c]</td>\n",
       "      <td>[waggle/plugin-iio:0.6.0, waggle/plugin-iio:0....</td>\n",
       "      <td>[bme280, bme280]</td>\n",
       "      <td>[wes-iio-bme280, wes-iio-bme280]</td>\n",
       "      <td>[W085, W08C]</td>\n",
       "      <td>[core, core]</td>\n",
       "      <td>N/A</td>\n",
       "      <td>[North Dakota, Michigan]</td>\n",
       "      <td>[Heatwave, Heatwave]</td>\n",
       "      <td>N/A</td>\n",
       "      <td>[15.865, 19.495]</td>\n",
       "    </tr>\n",
       "    <tr>\n",
       "      <th>3</th>\n",
       "      <td>[env.temperature, env.temperature]</td>\n",
       "      <td>[2025-01-07T17:51:38.033769632Z, 2025-01-07T17...</td>\n",
       "      <td>[33.9, 15.13]</td>\n",
       "      <td>[000048b02d3ae300.ws-nxcore, 000048b02d3af45d....</td>\n",
       "      <td>[Pluginctl, Pluginctl]</td>\n",
       "      <td>[000048b02d3ae300, 000048b02d3af45d]</td>\n",
       "      <td>[waggle/plugin-iio:0.6.0, waggle/plugin-iio:0....</td>\n",
       "      <td>[bme280, bme280]</td>\n",
       "      <td>[wes-iio-bme280, wes-iio-bme280]</td>\n",
       "      <td>[W070, W068]</td>\n",
       "      <td>[core, core]</td>\n",
       "      <td>N/A</td>\n",
       "      <td>[California, Oregon]</td>\n",
       "      <td>[None, None]</td>\n",
       "      <td>[33.9, 15.13]</td>\n",
       "      <td>N/A</td>\n",
       "    </tr>\n",
       "    <tr>\n",
       "      <th>4</th>\n",
       "      <td>[env.relative_humidity, env.relative_humidity]</td>\n",
       "      <td>[2025-01-07T17:51:38.036863814Z, 2025-01-07T17...</td>\n",
       "      <td>[7.702, 55.496]</td>\n",
       "      <td>[000048b02d3ae300.ws-nxcore, 000048b02d3af45d....</td>\n",
       "      <td>[Pluginctl, Pluginctl]</td>\n",
       "      <td>[000048b02d3ae300, 000048b02d3af45d]</td>\n",
       "      <td>[waggle/plugin-iio:0.6.0, waggle/plugin-iio:0....</td>\n",
       "      <td>[bme280, bme280]</td>\n",
       "      <td>[wes-iio-bme280, wes-iio-bme280]</td>\n",
       "      <td>[W070, W068]</td>\n",
       "      <td>[core, core]</td>\n",
       "      <td>N/A</td>\n",
       "      <td>[California, Oregon]</td>\n",
       "      <td>[Heatwave, None]</td>\n",
       "      <td>N/A</td>\n",
       "      <td>[7.702, 55.496]</td>\n",
       "    </tr>\n",
       "    <tr>\n",
       "      <th>5</th>\n",
       "      <td>[env.pressure, env.pressure]</td>\n",
       "      <td>[2025-01-07T17:51:38.040962168Z, 2025-01-07T17...</td>\n",
       "      <td>[82732.82421800001, 101542.78125]</td>\n",
       "      <td>[000048b02d3ae300.ws-nxcore, 000048b02d3af45d....</td>\n",
       "      <td>[Pluginctl, Pluginctl]</td>\n",
       "      <td>[000048b02d3ae300, 000048b02d3af45d]</td>\n",
       "      <td>[waggle/plugin-iio:0.6.0, waggle/plugin-iio:0....</td>\n",
       "      <td>[bme280, bme280]</td>\n",
       "      <td>[wes-iio-bme280, wes-iio-bme280]</td>\n",
       "      <td>[W070, W068]</td>\n",
       "      <td>[core, core]</td>\n",
       "      <td>[82732.82421800001, 101542.78125]</td>\n",
       "      <td>[California, Oregon]</td>\n",
       "      <td>[None, None]</td>\n",
       "      <td>N/A</td>\n",
       "      <td>N/A</td>\n",
       "    </tr>\n",
       "  </tbody>\n",
       "</table>\n",
       "</div>"
      ],
      "text/plain": [
       "                                             name  \\\n",
       "0                    [env.pressure, env.pressure]   \n",
       "1              [env.temperature, env.temperature]   \n",
       "2  [env.relative_humidity, env.relative_humidity]   \n",
       "3              [env.temperature, env.temperature]   \n",
       "4  [env.relative_humidity, env.relative_humidity]   \n",
       "5                    [env.pressure, env.pressure]   \n",
       "\n",
       "                                           timestamp  \\\n",
       "0  [2025-01-07T17:51:27.767251921Z, 2025-01-07T17...   \n",
       "1  [2025-01-07T17:51:27.761292574Z, 2025-01-07T17...   \n",
       "2  [2025-01-07T17:51:27.771586719Z, 2025-01-07T17...   \n",
       "3  [2025-01-07T17:51:38.033769632Z, 2025-01-07T17...   \n",
       "4  [2025-01-07T17:51:38.036863814Z, 2025-01-07T17...   \n",
       "5  [2025-01-07T17:51:38.040962168Z, 2025-01-07T17...   \n",
       "\n",
       "                               value  \\\n",
       "0           [100554.671875, 96221.5]   \n",
       "1                      [7.48, 15.71]   \n",
       "2                   [15.865, 19.495]   \n",
       "3                      [33.9, 15.13]   \n",
       "4                    [7.702, 55.496]   \n",
       "5  [82732.82421800001, 101542.78125]   \n",
       "\n",
       "                                           meta.host                meta.job  \\\n",
       "0  [000048b02d35a9ce.ws-nxcore, 000048b02d35a97c....  [Pluginctl, Pluginctl]   \n",
       "1  [000048b02d35a9ce.ws-nxcore, 000048b02d35a97c....  [Pluginctl, Pluginctl]   \n",
       "2  [000048b02d35a9ce.ws-nxcore, 000048b02d35a97c....  [Pluginctl, Pluginctl]   \n",
       "3  [000048b02d3ae300.ws-nxcore, 000048b02d3af45d....  [Pluginctl, Pluginctl]   \n",
       "4  [000048b02d3ae300.ws-nxcore, 000048b02d3af45d....  [Pluginctl, Pluginctl]   \n",
       "5  [000048b02d3ae300.ws-nxcore, 000048b02d3af45d....  [Pluginctl, Pluginctl]   \n",
       "\n",
       "                              meta.node  \\\n",
       "0  [000048b02d35a9ce, 000048b02d35a97c]   \n",
       "1  [000048b02d35a9ce, 000048b02d35a97c]   \n",
       "2  [000048b02d35a9ce, 000048b02d35a97c]   \n",
       "3  [000048b02d3ae300, 000048b02d3af45d]   \n",
       "4  [000048b02d3ae300, 000048b02d3af45d]   \n",
       "5  [000048b02d3ae300, 000048b02d3af45d]   \n",
       "\n",
       "                                         meta.plugin       meta.sensor  \\\n",
       "0  [waggle/plugin-iio:0.6.0, waggle/plugin-iio:0....  [bme280, bme280]   \n",
       "1  [waggle/plugin-iio:0.6.0, waggle/plugin-iio:0....  [bme280, bme280]   \n",
       "2  [waggle/plugin-iio:0.6.0, waggle/plugin-iio:0....  [bme280, bme280]   \n",
       "3  [waggle/plugin-iio:0.6.0, waggle/plugin-iio:0....  [bme280, bme280]   \n",
       "4  [waggle/plugin-iio:0.6.0, waggle/plugin-iio:0....  [bme280, bme280]   \n",
       "5  [waggle/plugin-iio:0.6.0, waggle/plugin-iio:0....  [bme280, bme280]   \n",
       "\n",
       "                          meta.task      meta.vsn     meta.zone  \\\n",
       "0  [wes-iio-bme280, wes-iio-bme280]  [W085, W08C]  [core, core]   \n",
       "1  [wes-iio-bme280, wes-iio-bme280]  [W085, W08C]  [core, core]   \n",
       "2  [wes-iio-bme280, wes-iio-bme280]  [W085, W08C]  [core, core]   \n",
       "3  [wes-iio-bme280, wes-iio-bme280]  [W070, W068]  [core, core]   \n",
       "4  [wes-iio-bme280, wes-iio-bme280]  [W070, W068]  [core, core]   \n",
       "5  [wes-iio-bme280, wes-iio-bme280]  [W070, W068]  [core, core]   \n",
       "\n",
       "                            pressure                     state  \\\n",
       "0           [100554.671875, 96221.5]  [North Dakota, Michigan]   \n",
       "1                                N/A  [North Dakota, Michigan]   \n",
       "2                                N/A  [North Dakota, Michigan]   \n",
       "3                                N/A      [California, Oregon]   \n",
       "4                                N/A      [California, Oregon]   \n",
       "5  [82732.82421800001, 101542.78125]      [California, Oregon]   \n",
       "\n",
       "                  alert    temperature          humidity  \n",
       "0          [None, None]            N/A               N/A  \n",
       "1          [None, None]  [7.48, 15.71]               N/A  \n",
       "2  [Heatwave, Heatwave]            N/A  [15.865, 19.495]  \n",
       "3          [None, None]  [33.9, 15.13]               N/A  \n",
       "4      [Heatwave, None]            N/A   [7.702, 55.496]  \n",
       "5          [None, None]            N/A               N/A  "
      ]
     },
     "execution_count": 8,
     "metadata": {},
     "output_type": "execute_result"
    }
   ],
   "source": [
    "# Display the first 10 rows of the consumed data\n",
    "consumer.dataframe.head(10)"
   ]
  },
  {
   "cell_type": "markdown",
   "id": "59485158-c17d-4f34-bf20-9f137060705e",
   "metadata": {},
   "source": [
    "## Step 6: Stopping Data Consumption and Cleaning Up \n",
    "\n",
    "To wrap up, we will: \n",
    "1. Stop the data consumer to halt data processing.\n",
    "2. Delete the created stream from the Kafka topic using the Streaming client.\n",
    "3. Remove the registered dataset using the POP client.\n",
    "\n",
    "This ensures all resources and background tasks are properly released."
   ]
  },
  {
   "cell_type": "code",
   "execution_count": 9,
   "id": "b9ee37e7-f21b-4b00-8312-da1d00f522a3",
   "metadata": {},
   "outputs": [
    {
     "name": "stdout",
     "output_type": "stream",
     "text": [
      "Cleanup completed: Stream and registered dataset deleted.\n"
     ]
    }
   ],
   "source": [
    "# Stop the Kafka consumer\n",
    "consumer.stop()\n",
    "\n",
    "# Delete the Kafka stream\n",
    "await streaming.delete_stream(stream)\n",
    "\n",
    "# Delete all registered datasets from the POP system\n",
    "for result in search_results:\n",
    "    client.delete_resource_by_id(result[\"id\"])\n",
    "    print(f\"Deleted dataset with ID: {result['id']}\")\n",
    "\n",
    "print(\"Cleanup completed: All registered datasets deleted.\")"
   ]
  },
  {
   "cell_type": "code",
   "execution_count": null,
   "id": "99eb7787-cea9-4061-88d6-a84d3d78ca5a",
   "metadata": {},
   "outputs": [],
   "source": []
  }
 ],
 "metadata": {
  "kernelspec": {
   "display_name": "Python 3 (ipykernel)",
   "language": "python",
   "name": "python3"
  },
  "language_info": {
   "codemirror_mode": {
    "name": "ipython",
    "version": 3
   },
   "file_extension": ".py",
   "mimetype": "text/x-python",
   "name": "python",
   "nbconvert_exporter": "python",
   "pygments_lexer": "ipython3",
   "version": "3.11.6"
  }
 },
 "nbformat": 4,
 "nbformat_minor": 5
}
