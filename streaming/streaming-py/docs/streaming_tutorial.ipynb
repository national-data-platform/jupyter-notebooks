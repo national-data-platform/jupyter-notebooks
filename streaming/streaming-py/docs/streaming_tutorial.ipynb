{
 "cells": [
  {
   "cell_type": "markdown",
   "id": "2b85316e",
   "metadata": {},
   "source": [
    "# 10 Minutes for Streaming from a POP\n",
    "\n",
    "Welcome to the **10 Minutes for Streaming from a POP** tutorial! This notebook demonstrates the core functionalities of the `scidx_streaming` library, which allows you to create and interact with streaming data using the sciDX platform and a Point of Presence.\n",
    "\n",
    "In this tutorial, you will learn how to:\n",
    "1. Set up the library and authenticate with the API.\n",
    "2. Create, consume, and manage Kafka streams.\n",
    "3. Use filter semantics for advanced data processing."
   ]
  },
  {
   "cell_type": "markdown",
   "id": "b1c46a96",
   "metadata": {},
   "source": [
    "\n",
    "## 1. Setting Up\n",
    "\n",
    "Ensure you have Python 3.7 or higher installed. Use the following steps to install the library and its dependencies:\n",
    "\n",
    "### Step 1: Install the Library\n",
    "```bash\n",
    "!pip install scidx_streaming\n",
    "```\n",
    "\n",
    "Or, if you're working in a virtual environment and have cloned the repository, you can install it by running the following command in the root folder:\n",
    "```bash\n",
    "!pip install -e .\n",
    "!pip install -r requirements.txt\n",
    "```"
   ]
  },
  {
   "cell_type": "markdown",
   "id": "e196a89a",
   "metadata": {},
   "source": [
    "\n",
    "### Step 2: Enter API Credentials\n",
    "\n",
    "To start using the library, configure the `APIClient` with your API URL and credentials. You need either:\n",
    "\n",
    "1. The base URL where the POP API is hosted, and valid username and password for authentication.\n",
    "2. A valid token for authentication.\n",
    "\n",
    "#### Option 1: Username and Password Authentication\n",
    "\n",
    "Use the following code to configure the client using your username and password:\n",
    "\n",
    "```python\n",
    "from getpass import getpass\n",
    "\n",
    "# Prompt the user for API credentials\n",
    "api_base_url = input(\"Enter the POP API base URL (include http:// or https://): \")\n",
    "api_username = input(\"Enter your POP API username: \")\n",
    "api_password = getpass(\"Enter your POP API password: \")\n",
    "api_token=None\n",
    "```\n",
    "\n",
    "#### Option 2: Token-Based Authentication\n",
    "\n",
    "If you already have a token, you can use it directly instead of providing a username and password:\n",
    "\n",
    "```python\n",
    "# Prompt the user for API credentials\n",
    "api_base_url = input(\"Enter the POP API base URL (include http:// or https://): \")\n",
    "api_token = input(\"Enter your POP API token: \")\n",
    "api_username=None\n",
    "api_password=None\n",
    "```"
   ]
  },
  {
   "cell_type": "markdown",
   "id": "87c63094",
   "metadata": {},
   "source": [
    "## 2. Initializing the Client\n",
    "\n",
    "Now that you have the required credentials, you can import and configure the `pointofpresence` client and the `scidx_streaming` client with it:\n",
    "\n",
    "```python\n",
    "from scidx_streaming.client.init_client import StreamingClient\n",
    "from pointofpresence import APIClient\n",
    "\n",
    "# Initialize the API client\n",
    "client = APIClient(base_url=api_base_url, username=api_username, password=api_password, token=api_token)\n",
    "\n",
    "# Initialize the Streaming client\n",
    "streaming = StreamingClient(pop_client=client)\n",
    "print(f\"User ID: {streaming.user_id}\")\n",
    "```"
   ]
  },
  {
   "cell_type": "markdown",
   "id": "e924a6c7",
   "metadata": {},
   "source": [
    "\n",
    "## 3. Creating Kafka Streams\n",
    "\n",
    "You can create Kafka streams with specific keywords and filter semantics. Filter semantics enable advanced processing of streaming data.\n",
    "\n",
    "### Example: Create a Kafka Stream\n",
    "```python\n",
    "# Define the stream configuration\n",
    "stream_config = {\n",
    "    \"keywords\": [\"example_keyword\", \"CSV\"],\n",
    "    \"match_all\": True,\n",
    "    \"filter_semantics\": [\n",
    "        \"window_filter(5, mean, fixed acidity > 8.7)\",\n",
    "        \"residual sugar > 1.5\",\n",
    "        \"IF window_filter(9, sum, residual sugar > 20) THEN alert = fixed_acidity * 100 ELSE fixed_acidity = fixed_acidity * 1000\",\n",
    "        \"IF alert IN ['blue'] THEN residual_sugar = fixed_acidity * 100\"\n",
    "    ]\n",
    "}\n",
    "\n",
    "# Create the stream\n",
    "result = await streaming.create_kafka_stream(\n",
    "    keywords=stream_config[\"keywords\"],\n",
    "    filter_semantics=stream_config[\"filter_semantics\"],\n",
    "    match_all=stream_config[\"match_all\"]\n",
    ")\n",
    "\n",
    "print(f\"Stream created: {result['topic']}\")\n",
    "print(f\"Involved data objects: {result['involved_streams']}\")\n",
    "```\n"
   ]
  },
  {
   "cell_type": "markdown",
   "id": "0d395a2c",
   "metadata": {},
   "source": [
    "\n",
    "## 4. Consuming Messages from Kafka Streams\n",
    "\n",
    "Once a stream is created, you can consume messages in real time.\n",
    "\n",
    "### Example: Consume Kafka Messages\n",
    "```python\n",
    "# Consume messages from the Kafka topic\n",
    "topic = result[\"topic\"]\n",
    "consumer = streaming.consume_kafka_messages(topic)\n",
    "\n",
    "try:\n",
    "    start_time = time.time()\n",
    "    while True:\n",
    "        if time.time() - start_time > 30:\n",
    "            print(\"Timeout reached while waiting for messages.\")\n",
    "            break\n",
    "\n",
    "        if not consumer.dataframe.empty:\n",
    "            print(\"Dataframe received:\")\n",
    "            print(consumer.dataframe.head())\n",
    "            break\n",
    "\n",
    "        await asyncio.sleep(1)\n",
    "finally:\n",
    "    consumer.stop()\n",
    "```\n"
   ]
  },
  {
   "cell_type": "markdown",
   "id": "3363e2c8",
   "metadata": {},
   "source": [
    "\n",
    "## 4. Deleting Kafka Streams\n",
    "\n",
    "You can delete a Kafka stream when it is no longer needed.\n",
    "\n",
    "### Example: Delete a Kafka Stream\n",
    "```python\n",
    "# Delete the Kafka stream\n",
    "response = await streaming.delete_stream(topic)\n",
    "print(f\"Stream {topic} deleted successfully.\")\n",
    "```\n"
   ]
  },
  {
   "cell_type": "markdown",
   "id": "1da90e12",
   "metadata": {},
   "source": [
    "\n",
    "## Running Tests\n",
    "\n",
    "To validate the library's functionalities, you can run the test suite:\n",
    "\n",
    "```bash\n",
    "pytest\n",
    "```\n"
   ]
  },
  {
   "cell_type": "markdown",
   "id": "4b55f4a3",
   "metadata": {},
   "source": [
    "\n",
    "## Conclusion\n",
    "\n",
    "You have learned how to:\n",
    "1. Create Kafka streams with custom configurations.\n",
    "2. Consume messages from Kafka topics.\n",
    "3. Delete streams when they are no longer needed.\n",
    "\n",
    "For more details, check the official documentation and [GitHub repository](https://github.com/sci-ndp/streaming-py).\n"
   ]
  }
 ],
 "metadata": {
  "language_info": {
   "name": "python"
  }
 },
 "nbformat": 4,
 "nbformat_minor": 5
}
