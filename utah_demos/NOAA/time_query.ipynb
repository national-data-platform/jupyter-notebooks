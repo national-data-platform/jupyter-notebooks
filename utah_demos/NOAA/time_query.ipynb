{
 "cells": [
  {
   "cell_type": "markdown",
   "id": "4bfe974f-8a68-4104-9f94-9e6d73d75801",
   "metadata": {},
   "source": [
    "![alt text](NOAAWFSlide.png \"Title\")"
   ]
  },
  {
   "cell_type": "markdown",
   "id": "960dcb89-00e8-491b-b492-0eebf1935f1d",
   "metadata": {},
   "source": [
    "**Import Modules**"
   ]
  },
  {
   "cell_type": "code",
   "execution_count": null,
   "id": "2d088bd8-4adf-4e96-93fb-808fdc2d7d42",
   "metadata": {},
   "outputs": [],
   "source": [
    "from scidx.client import sciDXClient, TimeDirection\n",
    "import numpy as np\n",
    "import matplotlib.pyplot as plt"
   ]
  },
  {
   "cell_type": "markdown",
   "id": "1c25e5f9-6a88-4a3d-b9fa-7e9f4c680f0a",
   "metadata": {},
   "source": [
    "**API Socket and Credentials**"
   ]
  },
  {
   "cell_type": "code",
   "execution_count": null,
   "id": "1307657e-171c-4546-9d84-b5570688877d",
   "metadata": {},
   "outputs": [],
   "source": [
    "api_url=\"https://dataspaces.ndp.utah.edu/pop\""
   ]
  },
  {
   "cell_type": "markdown",
   "id": "d6e83313-522a-46a2-a721-045a2c53b659",
   "metadata": {},
   "source": [
    "**Establish server connection**"
   ]
  },
  {
   "cell_type": "code",
   "execution_count": null,
   "id": "e4a39cf9-f1db-4e23-88d5-5e693d4103c6",
   "metadata": {},
   "outputs": [],
   "source": [
    "# Initialize the client\n",
    "client = sciDXClient(api_url)"
   ]
  },
  {
   "cell_type": "markdown",
   "id": "e220f193-6434-4a37-862d-d6d24f5d28cb",
   "metadata": {},
   "source": [
    "**Search Parameters** - parameters that identify the resource or resources being staged. The user provides a `source` dataset (the RadC dataset for the GOES-18 satellite, in this case), a nearest `timestamp` and a direction in time to search (i.e. the nearest available data to `timestamp` in the `PAST` or `FUTURE`)."
   ]
  },
  {
   "cell_type": "code",
   "execution_count": null,
   "id": "969721e2-c2e9-4288-b4ba-433249975b99",
   "metadata": {},
   "outputs": [],
   "source": [
    "source = 'goes18-radc'\n",
    "timestamp = '2024-08-02T00:35:00'\n",
    "time_direction = TimeDirection.PAST"
   ]
  },
  {
   "cell_type": "markdown",
   "id": "24367abe-c973-42d2-b70b-5543e46c0598",
   "metadata": {},
   "source": [
    "**Subsetting Parameters** - parameters that guide the server-side subsetting of matching data. In this case, the user gives a `var_name`, which specifies the array inside the resource to subset, and lower- and upper- bound indices. These parameters are interpreted by resource type-specific handler module in DataSpaces, which is chosen based on prior registration parameters."
   ]
  },
  {
   "cell_type": "code",
   "execution_count": null,
   "id": "39ca2dbc-4fda-4f4b-a7bc-0c377728b93b",
   "metadata": {},
   "outputs": [],
   "source": [
    "var_name = 'Rad'\n",
    "lb = (0,2500)\n",
    "ub = (1499,4999)"
   ]
  },
  {
   "cell_type": "markdown",
   "id": "2d4bebe7-9231-4e06-895b-1ec8f73bfd8d",
   "metadata": {},
   "source": [
    "**Query** - search for resources, do a server-side download and subset, receive the results."
   ]
  },
  {
   "cell_type": "code",
   "execution_count": null,
   "id": "e315030d-d06f-407a-88d6-42a8bcff0a8d",
   "metadata": {},
   "outputs": [],
   "source": [
    "result = client.query_array(source=source,\n",
    "                       var_name=var_name,\n",
    "                       lb=lb, \n",
    "                       ub=ub, \n",
    "                       timestamp=timestamp,\n",
    "                       time_direction=time_direction)"
   ]
  },
  {
   "cell_type": "markdown",
   "id": "20a01f73-7446-4be0-9b96-01cfc739e027",
   "metadata": {},
   "source": [
    "**Handle results** - the return value is a list of tuples, one per found resource."
   ]
  },
  {
   "cell_type": "code",
   "execution_count": null,
   "id": "5b5538ea-781a-437d-aa3e-9e2eda6b908d",
   "metadata": {},
   "outputs": [],
   "source": [
    "(radiance, res_tstamp, res_metadata) = result[0]\n",
    "print(res_tstamp, res_metadata)"
   ]
  },
  {
   "cell_type": "markdown",
   "id": "e78b5dd9-20df-4190-ac7e-844f09ebd73a",
   "metadata": {},
   "source": [
    "### Visualize Results"
   ]
  },
  {
   "cell_type": "code",
   "execution_count": null,
   "id": "4b0558fa-0ac4-4516-aff4-d4cd8819465f",
   "metadata": {},
   "outputs": [],
   "source": [
    "def viz_radiance(radiance):\n",
    "    # Define some constants needed for the conversion. From the pdf linked above\n",
    "    Esun_Ch_01 = 726.721072\n",
    "    Esun_Ch_02 = 663.274497\n",
    "    Esun_Ch_03 = 441.868715\n",
    "    d2 = 0.3\n",
    "    # Apply the formula to convert radiance to reflectance\n",
    "    ref = (radiance * np.pi * d2) / Esun_Ch_02\n",
    "\n",
    "    # Make sure all data is in the valid data range\n",
    "    ref = np.maximum(ref, 0.0)\n",
    "    ref = np.minimum(ref, 1.0)\n",
    "\n",
    "    # Apply the formula to adjust reflectance gamma\n",
    "    ref_gamma = np.sqrt(ref)\n",
    "\n",
    "    # Plot gamma adjusted reflectance\n",
    "    fig = plt.figure(figsize=(4,4),dpi=200)\n",
    "    im = plt.imshow(ref_gamma, vmin=0.0, vmax=1.0, cmap='Greys_r')\n",
    "    cb = fig.colorbar(im, orientation='horizontal')\n",
    "    cb.set_ticks([0, 0.2, 0.4, 0.6, 0.8, 1.0])\n",
    "    cb.set_label('Reflectance')\n",
    "    plt.show()"
   ]
  },
  {
   "cell_type": "markdown",
   "id": "011488c8-fc4e-4a19-8968-a8b7840b43cc",
   "metadata": {},
   "source": [
    "### Generate Visualization\n",
    "West Coast radiance visualization"
   ]
  },
  {
   "cell_type": "code",
   "execution_count": null,
   "id": "68099ba1-a184-4f1a-84b1-7f53928118d3",
   "metadata": {},
   "outputs": [],
   "source": [
    "viz_radiance(radiance)"
   ]
  },
  {
   "cell_type": "markdown",
   "id": "f747b1f9-e801-4450-a8fe-46ebbdd8de31",
   "metadata": {},
   "source": [
    "### Change the time direction\n",
    "Query with the same `timestamp`, but ask for the next nearest `FUTURE` result."
   ]
  },
  {
   "cell_type": "code",
   "execution_count": null,
   "id": "bab127db-cfa0-41e5-83d6-2e2cbdb8d77c",
   "metadata": {},
   "outputs": [],
   "source": [
    "result = client.query_array(source=source,\n",
    "                       var_name=var_name,\n",
    "                       lb=lb, \n",
    "                       ub=ub, \n",
    "                       timestamp=timestamp,\n",
    "                       time_direction=TimeDirection.FUTURE)\n",
    "(radiance, res_tstamp, res_metadata) = result[0]\n",
    "print(res_tstamp, res_metadata)"
   ]
  },
  {
   "cell_type": "code",
   "execution_count": null,
   "id": "3a7078d4-81ec-4c2d-a9fa-e97d7637a143",
   "metadata": {},
   "outputs": [],
   "source": [
    "viz_radiance(radiance)"
   ]
  },
  {
   "cell_type": "markdown",
   "id": "523ada8c-0bf0-479a-a49b-b07da8d54093",
   "metadata": {},
   "source": [
    "### Query for all the resources within a time range\n",
    "Query a 15 minute interval"
   ]
  },
  {
   "cell_type": "code",
   "execution_count": null,
   "id": "1505150d-f815-4cca-beb4-bad76769a2ad",
   "metadata": {},
   "outputs": [],
   "source": [
    "start_time='2024-08-02T00:30:00'\n",
    "end_time='2024-08-02T00:45:00'\n",
    "results = client.query_array(source=source,\n",
    "                       var_name=var_name,\n",
    "                       lb=lb, \n",
    "                       ub=ub, \n",
    "                       start_time=start_time,\n",
    "                       end_time=end_time)"
   ]
  },
  {
   "cell_type": "code",
   "execution_count": null,
   "id": "b4d72044-c0f5-425a-b458-85fb0305a44a",
   "metadata": {},
   "outputs": [],
   "source": [
    "for result in results:\n",
    "    (radiance, res_tstamp, res_metadata) = result\n",
    "    print(res_tstamp, res_metadata)"
   ]
  },
  {
   "cell_type": "markdown",
   "id": "be5c8bc9-5f57-4f9d-ab86-1e4a101993d7",
   "metadata": {},
   "source": [
    "### Print result metadata\n",
    "RadC produces data every 5 minutes, so we see three results in our 15 minute interval."
   ]
  }
 ],
 "metadata": {
  "kernelspec": {
   "display_name": "Python 3 (ipykernel)",
   "language": "python",
   "name": "python3"
  },
  "language_info": {
   "codemirror_mode": {
    "name": "ipython",
    "version": 3
   },
   "file_extension": ".py",
   "mimetype": "text/x-python",
   "name": "python",
   "nbconvert_exporter": "python",
   "pygments_lexer": "ipython3",
   "version": "3.10.14"
  }
 },
 "nbformat": 4,
 "nbformat_minor": 5
}
