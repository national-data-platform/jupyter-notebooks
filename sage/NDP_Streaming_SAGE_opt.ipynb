{
 "cells": [
  {
   "cell_type": "markdown",
   "id": "9468a857",
   "metadata": {},
   "source": [
    "<div style=\"display: flex; align-items: center;\">\n",
    "    <img src=\"SAGE_logo.jpeg\" alt=\"SAGE Logo\" width=\"300\" height=\"auto\" style=\"margin-right: 10px; vertical-align: middle;\">\n",
    "    <div style=\"flex: 0 0 auto; margin-left: auto; margin-bottom: 0;\">\n",
    "        <img src=\"https://www.sci.utah.edu/images/news/2023/sci-30-multi.jpg\" alt=\"Scientific Computing and Imaging Institute Logo\" width=\"150\"/>\n",
    "    </div>\n",
    "</div>\n",
    "\n",
    "    \n",
    "\n",
    "\n",
    "<h1 style=\"vertical-align: middle; text-align:center;\">NSF National Data Platform (NDP)</h1>\n",
    "<h3 style=\"text-align: center; margin-top: 0;\">Streaming Data from SAGE Pilot</h3>"
   ]
  },
  {
   "cell_type": "markdown",
   "id": "83fff4da",
   "metadata": {},
   "source": [
    "![SAGE NDP diagram](schema.png)\n",
    "\n",
    "The figure you've provided outlines a data processing workflow in an IoT environment, utilizing an architecture that connects several components. Here's what each part appears to do:\n",
    "\n",
    "1. **SAGE**: Represents a software-defined sensor network designed for AI at the edge, presumably for collecting and processing data at the edge. It appears to have an API through which data can be retrieved.\n",
    "\n",
    "2. **Data Stream Adapter**: This component acts as an adapter that connects the SAGE platform with the R-Pulsar framework. Its function is to receive data from SAGE and convert it into an appropriate format or protocol for use within the R-Pulsar framework.\n",
    "\n",
    "3. **R-Pulsar Framework**: It is an IoT Edge Framework that extends cloud capabilities to local devices and provides a programming model to decide what data is collected and processed, when, and where. This framework handles the data in real time, possibly performing analysis and making decisions based on the data received from the Data Stream Adapter.\n",
    "\n",
    "4. **Data Sink Adapter**: Like the Data Stream Adapter, the Data Sink Adapter likely converts and routes the processed data from R-Pulsar into an appropriate format or destination. This destination could be a storage system or a process requiring data for its operation, depicted here as \"OSDF Origin.\"\n",
    "\n",
    "5. **Metadata Catalog**: As data flows through the system, relevant metadata is logged in a catalog. This step is crucial for data management, as it provides information on the data's origin, its structure, and how and when it was processed.\n",
    "\n",
    "6. **User & OSDF Origin**: Represents the end-users and other systems that access the data. Users can subscribe to specific data streams within the data streaming platform, allowing them to receive data or notifications. OSDF Origin could be a data archive system, a database, or any other system that needs to consume processed data.\n",
    "\n",
    "The general data flow is as follows:\n",
    "- Data is collected by SAGE and passed through its API to the Data Stream Adapter.\n",
    "- The Data Stream Adapter sends this data to the R-Pulsar Framework.\n",
    "- Within the R-Pulsar Framework, data may be analyzed, processed, or transformed in real time.\n",
    "- Then, the processed data are passed to the Data Sink Adapter, which directs them to the appropriate destination, such as OSDF Origin.\n",
    "- Throughout this process, metadata are logged for use in the metadata catalog.\n",
    "- End-users can access the data or subscribe to data streams as needed."
   ]
  },
  {
   "cell_type": "markdown",
   "id": "dd4a5cc9",
   "metadata": {},
   "source": [
    "**Contact:** Scientific and Computing Imaging Institute, University of Utah ([ivan.rodero@utah.edu](mailto:ivan.rodero@utah.edu))"
   ]
  },
  {
   "cell_type": "markdown",
   "id": "ba3e53f8-4dea-4c6f-8dfb-c76a1cffe3b7",
   "metadata": {
    "tags": []
   },
   "source": [
    "<div style=\"display: flex; align-items: center;\">\n",
    "    <img src=\"https://new.nsf.gov/themes/custom/nsf_theme/components/images/logo/logo-desktop.svg\" alt=\"NSF Logo\" width=\"120\" style=\"margin-right: 10px; vertical-align: middle;\">\n",
    "    <span style=\"font-size: 10px; margin-top:10px;\">The National Data Platform was funded by NSF 2333609 under CI, CISE Research Resources programs. Any opinions, findings, conclusions, or recommendations expressed in this material are those of the author(s) and do not necessarily reflect the views of the funders.</span>\n",
    "</div>"
   ]
  },
  {
   "cell_type": "code",
   "execution_count": null,
   "id": "0252430d-d011-4028-8aed-f1f0e7335016",
   "metadata": {},
   "outputs": [],
   "source": [
    "from basic_functions import get_and_display_consumer_data, stream_and_visualize_data, fetch_recent_active_consumers\n",
    "import warnings\n",
    "from IPython.display import display, HTML\n",
    "import nest_asyncio\n",
    "nest_asyncio.apply()"
   ]
  },
  {
   "cell_type": "code",
   "execution_count": null,
   "id": "ce61fe1d-6b07-48c5-aa98-4282f06aadbb",
   "metadata": {},
   "outputs": [],
   "source": [
    "display(HTML('<style>.output {max-height: 600px; overflow-y: auto; max-width: 100%; overflow-x: auto;}</style>'))\n",
    "warnings.filterwarnings(\"ignore\", message=\"The behavior of DataFrame concatenation with empty or all-NA entries is deprecated\")"
   ]
  },
  {
   "cell_type": "code",
   "execution_count": null,
   "id": "c47c72ef-c3ac-496d-b7ea-b08529f26e8f",
   "metadata": {},
   "outputs": [],
   "source": [
    "KAFKA_HOST = \"155.101.6.194\"\n",
    "KAFKA_PORT = \"9092\"\n",
    "\n",
    "consumer_ids = await fetch_recent_active_consumers(KAFKA_HOST, KAFKA_PORT)"
   ]
  },
  {
   "cell_type": "markdown",
   "id": "d13c5ef6-b2be-4290-b7f6-7ee52c6ab958",
   "metadata": {},
   "source": [
    "### Real-Time Data Streaming and Visualization\n",
    "\n",
    "The `stream_and_visualize_data` function is at the heart of our real-time data analysis and visualization tool. It connects to a Kafka topic as a consumer using a given `consumer_id` and streams data in real time. The function then processes and visualizes this data dynamically, providing insights into trends as they occur.\n",
    "\n",
    "Key components of this function include:\n",
    "- **Kafka Consumer Initialization**: Establishes a connection to a Kafka topic to consume messages.\n",
    "- **Data Processing**: Upon receiving data, it parses the JSON payload, extracts relevant information, and updates the data model.\n",
    "- **Model Training and Prediction**: Utilizes an incremental model to train on the newly arrived data and makes future predictions based on the model.\n",
    "- **Dynamic Visualization**: Leverages Plotly to plot real-time data and predictions. The visualization includes both historical data and the latest data points to show trends over time.\n",
    "- **Saving Option**: Optionally, the visualized data can be saved as an HTML file for offline viewing and shared with others.\n",
    "\n",
    "This approach enables real-time monitoring and forecasting, making it invaluable for applications requiring up-to-the-minute data analysis, such as environmental monitoring, financial market tracking, or IoT device management.\n"
   ]
  },
  {
   "cell_type": "markdown",
   "id": "d23b9881-7701-43b8-a141-f6b3f1ced363",
   "metadata": {},
   "source": [
    "### Visualizing Real-Time Data for a Selected Consumer\n",
    "\n",
    "After retrieving and displaying the active consumers, we can focus on a specific consumer to visualize their data in real time. By selecting a consumer ID from the previously obtained array of consumer IDs, we can tailor our data visualization to show trends and predictions related to that particular consumer's data stream.\n",
    "\n",
    "The code snippet below demonstrates how to select the third consumer from our list (noting that Python uses zero-based indexing) and visualize their real-time data along with future predictions:"
   ]
  },
  {
   "cell_type": "code",
   "execution_count": null,
   "id": "fb900a98-7e11-48a4-9b25-3511e088426a",
   "metadata": {},
   "outputs": [],
   "source": [
    "wind_sensor_w099 = consumer_ids[4]\n",
    "await stream_and_visualize_data(KAFKA_HOST, KAFKA_PORT, wind_sensor_w099, predictions=20)"
   ]
  }
 ],
 "metadata": {
  "kernelspec": {
   "display_name": "Python 3 (ipykernel)",
   "language": "python",
   "name": "python3"
  },
  "language_info": {
   "codemirror_mode": {
    "name": "ipython",
    "version": 3
   },
   "file_extension": ".py",
   "mimetype": "text/x-python",
   "name": "python",
   "nbconvert_exporter": "python",
   "pygments_lexer": "ipython3",
   "version": "3.11.6"
  }
 },
 "nbformat": 4,
 "nbformat_minor": 5
}
